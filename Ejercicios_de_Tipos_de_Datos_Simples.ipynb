{
  "nbformat": 4,
  "nbformat_minor": 0,
  "metadata": {
    "colab": {
      "provenance": [],
      "authorship_tag": "ABX9TyOfNq+J1z8/NKRFPnHgTcAg",
      "include_colab_link": true
    },
    "kernelspec": {
      "name": "python3",
      "display_name": "Python 3"
    },
    "language_info": {
      "name": "python"
    }
  },
  "cells": [
    {
      "cell_type": "markdown",
      "metadata": {
        "id": "view-in-github",
        "colab_type": "text"
      },
      "source": [
        "<a href=\"https://colab.research.google.com/github/jesusgon91/jesusgon91/blob/main/Ejercicios_de_Tipos_de_Datos_Simples.ipynb\" target=\"_parent\"><img src=\"https://colab.research.google.com/assets/colab-badge.svg\" alt=\"Open In Colab\"/></a>"
      ]
    },
    {
      "cell_type": "markdown",
      "source": [
        "Ejercicio 1\n",
        "Escribir un programa que muestre por pantalla la cadena ¡Hola Mundo!."
      ],
      "metadata": {
        "id": "UKHHvV5HDY4T"
      }
    },
    {
      "cell_type": "code",
      "execution_count": null,
      "metadata": {
        "colab": {
          "base_uri": "https://localhost:8080/"
        },
        "id": "-gJkrmiBDXOd",
        "outputId": "a2da9d63-b578-4400-e9c5-a7db7676fe7c"
      },
      "outputs": [
        {
          "output_type": "stream",
          "name": "stdout",
          "text": [
            "¡Hola Mundo!.\n"
          ]
        }
      ],
      "source": [
        "print('¡Hola Mundo!.')"
      ]
    },
    {
      "cell_type": "markdown",
      "source": [
        "Ejercicio 2\n",
        "Escribir un programa que almacene la cadena ¡Hola Mundo! en una variable y luego muestre por pantalla el contenido de la variable."
      ],
      "metadata": {
        "id": "viyzaOkYDg4z"
      }
    },
    {
      "cell_type": "code",
      "source": [
        "x= '¡Hola Mundo!'\n",
        "print(x)"
      ],
      "metadata": {
        "colab": {
          "base_uri": "https://localhost:8080/"
        },
        "id": "uSjgvvGVDmzK",
        "outputId": "7258aa29-6f9a-42d7-f7c0-58b3983902de"
      },
      "execution_count": null,
      "outputs": [
        {
          "output_type": "stream",
          "name": "stdout",
          "text": [
            "¡Hola Mundo!\n"
          ]
        }
      ]
    },
    {
      "cell_type": "markdown",
      "source": [
        "Ejercicio 3\n",
        "Escribir un programa que pregunte el nombre del usuario en la consola y después de que el usuario lo introduzca muestre por pantalla la cadena ¡Hola <nombre>!, donde <nombre> es el nombre que el usuario haya introducido."
      ],
      "metadata": {
        "id": "ebmy5rzDDuTj"
      }
    },
    {
      "cell_type": "code",
      "source": [
        "x= input('Cual es tu nombre =>')\n",
        "print(f'¡Hola {x}!')"
      ],
      "metadata": {
        "colab": {
          "base_uri": "https://localhost:8080/"
        },
        "id": "Y8ixX8uMDwOF",
        "outputId": "22736bc5-249a-4336-9441-7b326c63253d"
      },
      "execution_count": null,
      "outputs": [
        {
          "output_type": "stream",
          "name": "stdout",
          "text": [
            "Cual es tu nombre =>jesus'\n",
            "¡Hola jesus'!\n"
          ]
        }
      ]
    },
    {
      "cell_type": "markdown",
      "source": [
        "Ejercicio 4\n",
        "Escribir un programa que muestre por pantalla el resultado de la siguiente operación aritmética"
      ],
      "metadata": {
        "id": "W4J4XyFvEKgJ"
      }
    },
    {
      "cell_type": "code",
      "source": [
        "print(((3+2)/(2*5))**2)"
      ],
      "metadata": {
        "colab": {
          "base_uri": "https://localhost:8080/"
        },
        "id": "4GNbi4yLEY60",
        "outputId": "1c421178-c9e4-4997-cc4b-f6e797385120"
      },
      "execution_count": null,
      "outputs": [
        {
          "output_type": "stream",
          "name": "stdout",
          "text": [
            "0.25\n"
          ]
        }
      ]
    },
    {
      "cell_type": "markdown",
      "source": [
        "Ejercicio 5\n",
        "Escribir un programa que pregunte al usuario por el número de horas trabajadas y el coste por hora. Después debe mostrar por pantalla la paga que le corresponde."
      ],
      "metadata": {
        "id": "JQ0ScAXQExk8"
      }
    },
    {
      "cell_type": "code",
      "source": [
        "x=float(input('dime tus horas trabajadas => '))\n",
        "y=float(input('Costo por hora =>'))\n",
        "z= float(x*y)\n",
        "print(f'Tu paga es => {z}')"
      ],
      "metadata": {
        "colab": {
          "base_uri": "https://localhost:8080/"
        },
        "id": "VyIfeipOEyri",
        "outputId": "8e3c8472-7313-4331-979f-48cb575711da"
      },
      "execution_count": null,
      "outputs": [
        {
          "output_type": "stream",
          "name": "stdout",
          "text": [
            "dime tus horas trabajadas => 40\n",
            "Costo por hora =>13.27\n",
            "Tu paga es => 530.8\n"
          ]
        }
      ]
    },
    {
      "cell_type": "markdown",
      "source": [
        "Ejercicio 6\n",
        "Escribir un programa que lea un entero positivo, n, introducido por el usuario y después muestre en pantalla la suma de todos los enteros desde 1 hasta n. La suma de los primeros enteros positivos puede ser calculada de la siguiente forma:\n",
        "![Screenshot_1.png](data:image/png;base64,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)\n"
      ],
      "metadata": {
        "id": "BTk1e5CDGkKc"
      }
    },
    {
      "cell_type": "code",
      "source": [
        "n=int(input('Introduce un numero entero =>'))\n",
        "suma =int (n*(n+1)/2)\n",
        "print(f'La suma de los primeros números enteros desde 1 hasta {n} es {suma}')"
      ],
      "metadata": {
        "colab": {
          "base_uri": "https://localhost:8080/"
        },
        "id": "-w_5v7JKG-mb",
        "outputId": "b59ab6d3-6a1f-4886-9d96-3c3f88ad3974"
      },
      "execution_count": null,
      "outputs": [
        {
          "output_type": "stream",
          "name": "stdout",
          "text": [
            "Introduce un numero entero =>2\n",
            "La suma de los primeros números enteros desde 1 hasta 2 es 3\n"
          ]
        }
      ]
    },
    {
      "cell_type": "markdown",
      "source": [
        "Ejercicio 7\n",
        "Escribir un programa que pida al usuario su peso (en kg) y estatura (en metros), calcule el índice de masa corporal y lo almacene en una variable, y muestre por pantalla la frase Tu índice de masa corporal es <imc> donde <imc> es el índice de masa corporal calculado redondeado con dos decimales."
      ],
      "metadata": {
        "id": "t3nIBW4vH-uU"
      }
    },
    {
      "cell_type": "code",
      "source": [
        "peso = float(input('Introduce tu peso en Kg => '))\n",
        "estatura = float(input('Introduce tu estatura en Metros => '))\n",
        "imc= round(peso/(estatura)**2,2)\n",
        "print(f\"tu indice de masa corporal es de {imc}\")"
      ],
      "metadata": {
        "colab": {
          "base_uri": "https://localhost:8080/"
        },
        "id": "A7IBdiF_IAk0",
        "outputId": "01a7fa07-119b-4d27-f90a-81db6d561b74"
      },
      "execution_count": null,
      "outputs": [
        {
          "output_type": "stream",
          "name": "stdout",
          "text": [
            "Introduce tu peso en Kg => 95\n",
            "Introduce tu estatura en Metros => 1.8\n",
            "tu indice de masa corporal es de 29.32\n"
          ]
        }
      ]
    },
    {
      "cell_type": "markdown",
      "source": [
        "Ejercicio 8 Escribir un programa que pida al usuario dos números enteros y muestre por pantalla la n entre m da un cociente c y un resto r donde n y m son los números introducidos por el usuario, y c y r son el cociente y el resto de la división entera respectivamente"
      ],
      "metadata": {
        "id": "kuNwYp2lKU18"
      }
    },
    {
      "cell_type": "code",
      "source": [
        "n= int(input('Introduce el dividendo (entero) =>'))\n",
        "m= int(input('Introduce el divisor (entero) =>'))\n",
        "c =int( n // m)\n",
        "r = int(n % m)\n",
        "print(f'{n} entre {m} el cociente es {c} y el resto es {r}')"
      ],
      "metadata": {
        "colab": {
          "base_uri": "https://localhost:8080/"
        },
        "id": "PgUP1lZcKZaE",
        "outputId": "dee1ad01-a6a7-42c7-b1e1-21842254117f"
      },
      "execution_count": null,
      "outputs": [
        {
          "output_type": "stream",
          "name": "stdout",
          "text": [
            "Introduce el dividendo (entero) =>20\n",
            "Introduce el divisor (entero) =>3\n",
            "20 entre 3 el cociente es 6 y el resto es 2\n"
          ]
        }
      ]
    },
    {
      "cell_type": "markdown",
      "source": [
        "Ejercicio 9\n",
        "Escribir un programa que pregunte al usuario una cantidad a invertir, el interés anual y el número de años, y muestre por pantalla el capital obtenido en la inversión.\n",
        "\n",
        "\n"
      ],
      "metadata": {
        "id": "A3qCBVV3PhBL"
      }
    },
    {
      "cell_type": "code",
      "source": [
        "inv =float(input(\"Introduce la cantidad a invertir =>\"))\n",
        "interes_anual = int(input('Introduce el interes anual =>'))\n",
        "years = int(input('Introduce el numero de años => '))\n",
        "\n",
        "inv_final = round(inv*(1+ interes_anual/100)**years,2)\n",
        "\n",
        "print(f'El capital obtenido con un interes de {interes_anual}% y {years} años es de {inv_final}')"
      ],
      "metadata": {
        "colab": {
          "base_uri": "https://localhost:8080/"
        },
        "id": "nwQzxKVHPgwe",
        "outputId": "8e264aa1-f5f5-4e0f-9a37-6a1d1d20f687"
      },
      "execution_count": null,
      "outputs": [
        {
          "output_type": "stream",
          "name": "stdout",
          "text": [
            "Introduce la cantidad a invertir =>2000\n",
            "Introduce el interes anual =>10\n",
            "Introduce el numero de años => 5\n",
            "El capital obtenido con un interes de 10% y 5 años es de 3221.02\n"
          ]
        }
      ]
    },
    {
      "cell_type": "markdown",
      "source": [
        "Ejercicio 10\n",
        "Una juguetería tiene mucho éxito en dos de sus productos: payasos y muñecas. Suele hacer venta por correo y la empresa de logística les cobra por peso de cada paquete así que deben calcular el peso de los payasos y muñecas que saldrán en cada paquete a demanda. Cada payaso pesa 112 g y cada muñeca 75 g. Escribir un programa que lea el número de payasos y muñecas vendidos en el último pedido y calcule el peso total del paquete que será enviado."
      ],
      "metadata": {
        "id": "dXXRqTdJSTyc"
      }
    },
    {
      "cell_type": "code",
      "source": [
        "payaso = int(input('Ingresa el numero de Payasos Vendidos => '))\n",
        "muneca = int(input('Ingresa el numero de muñecas vendidas =>'))\n",
        "\n",
        "peso_payaso = 112\n",
        "peso_muneca = 75\n",
        "\n",
        "peso_total = (peso_payaso * payaso) + (peso_muneca * peso_muneca )\n",
        "\n",
        "print(f'El numero de Payasos vendidos son {payaso} y el numero de Muñecas vendidas es de {muneca}\\nEl peso total a enviar es de {peso_total} gramos')\n"
      ],
      "metadata": {
        "colab": {
          "base_uri": "https://localhost:8080/"
        },
        "id": "K2U_3t7NSU0q",
        "outputId": "5043d298-250f-46f2-826a-20557ca21cfb"
      },
      "execution_count": 5,
      "outputs": [
        {
          "output_type": "stream",
          "name": "stdout",
          "text": [
            "Ingresa el numero de Payasos Vendidos => 30\n",
            "Ingresa el numero de muñecas vendidas =>20\n",
            "El numero de Payasos vendidos son 30 y el numero de Muñecas vendidas es de 20\n",
            "El peso total a enviar es de 8985 gramos\n"
          ]
        }
      ]
    },
    {
      "cell_type": "markdown",
      "source": [
        "Ejercicio 11\n",
        "Imagina que acabas de abrir una nueva cuenta de ahorros que te ofrece el 4% de interés al año. Estos ahorros debido a intereses, que no se cobran hasta finales de año, se te añaden al balance final de tu cuenta de ahorros. Escribir un programa que comience leyendo la cantidad de dinero depositada en la cuenta de ahorros, introducida por el usuario. Después el programa debe calcular y mostrar por pantalla la cantidad de ahorros tras el primer, segundo y tercer años. Redondear cada cantidad a dos decimales."
      ],
      "metadata": {
        "id": "13ZS-DPnUoLB"
      }
    },
    {
      "cell_type": "code",
      "source": [
        "deposito =float(input('Introduce la cantidad de dinero depositada => '))\n",
        "interes_anual = 0.04\n",
        "first_year = round((deposito * 0.04) + deposito,2)\n",
        "second_year = round((first_year *0.04) + first_year,2)\n",
        "third_year = round((second_year *0.04) + second_year,2)\n",
        "\n",
        "print(f\"El primer año se obtubo un beneficio de => {first_year}\")\n",
        "print(f\"El Segundo año se obtubo un beneficio de => {second_year}\")\n",
        "print(f\"El tercer año se obtubo un beneficio de => {third_year}\")"
      ],
      "metadata": {
        "colab": {
          "base_uri": "https://localhost:8080/"
        },
        "id": "ZABsvnkyUn4W",
        "outputId": "91b50ba5-8ed8-46bf-f906-7e988150670d"
      },
      "execution_count": 6,
      "outputs": [
        {
          "output_type": "stream",
          "name": "stdout",
          "text": [
            "Introduce la cantidad de dinero depositada => 20\n",
            "El primer año se obtubo un beneficio de => 20.8\n",
            "El Segundo año se obtubo un beneficio de => 21.63\n",
            "El tercer año se obtubo un beneficio de => 22.5\n"
          ]
        }
      ]
    },
    {
      "cell_type": "markdown",
      "source": [
        "Ejercicio 12\n",
        "Una panadería vende barras de pan a 3.49€ cada una. El pan que no es el día tiene un descuento del 60%. Escribir un programa que comience leyendo el número de barras vendidas que no son del día. Después el programa debe mostrar el precio habitual de una barra de pan, el descuento que se le hace por no ser fresca y el coste final total."
      ],
      "metadata": {
        "id": "F3LMHWDdXRji"
      }
    },
    {
      "cell_type": "code",
      "source": [
        "barra_de_pan = 3.49\n",
        "descuento = 0.6\n",
        "pan_vendido = float(input('Ingrese la Cantidad de pan vendido que no es fresco => '))\n",
        "\n",
        "pan_descuento = barra_de_pan-(barra_de_pan * 0.6)\n",
        "total_vendido_d= round(pan_descuento * pan_vendido,2)\n",
        "\n",
        "print(f\"El precio habitual del pan es de {barra_de_pan}\\nEl descuento por no ser fresca es del {descuento*100}%\\nEl costo final es de {total_vendido_d}\")\n"
      ],
      "metadata": {
        "colab": {
          "base_uri": "https://localhost:8080/"
        },
        "id": "Q0QRR3fLXSO4",
        "outputId": "cd16050e-bde1-4bea-adce-164624ba2c50"
      },
      "execution_count": 7,
      "outputs": [
        {
          "output_type": "stream",
          "name": "stdout",
          "text": [
            "Ingrese la Cantidad de pan vendido que no es fresco => 30\n",
            "El precio habitual del pan es de 3.49\n",
            "El descuento por no ser fresca es del 60.0%\n",
            "El costo final es de 41.88\n"
          ]
        }
      ]
    }
  ]
}