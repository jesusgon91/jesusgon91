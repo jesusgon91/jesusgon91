{
  "nbformat": 4,
  "nbformat_minor": 0,
  "metadata": {
    "colab": {
      "provenance": [],
      "authorship_tag": "ABX9TyNvPAlU4SsQSykMILvrcT+R",
      "include_colab_link": true
    },
    "kernelspec": {
      "name": "python3",
      "display_name": "Python 3"
    },
    "language_info": {
      "name": "python"
    }
  },
  "cells": [
    {
      "cell_type": "markdown",
      "metadata": {
        "id": "view-in-github",
        "colab_type": "text"
      },
      "source": [
        "<a href=\"https://colab.research.google.com/github/jesusgon91/jesusgon91/blob/main/Ejercicios_de_Tipos_de_Datos_Simples.ipynb\" target=\"_parent\"><img src=\"https://colab.research.google.com/assets/colab-badge.svg\" alt=\"Open In Colab\"/></a>"
      ]
    },
    {
      "cell_type": "markdown",
      "source": [
        "Ejercicio 1\n",
        "Escribir un programa que muestre por pantalla la cadena ¡Hola Mundo!."
      ],
      "metadata": {
        "id": "UKHHvV5HDY4T"
      }
    },
    {
      "cell_type": "code",
      "execution_count": 1,
      "metadata": {
        "colab": {
          "base_uri": "https://localhost:8080/"
        },
        "id": "-gJkrmiBDXOd",
        "outputId": "a2da9d63-b578-4400-e9c5-a7db7676fe7c"
      },
      "outputs": [
        {
          "output_type": "stream",
          "name": "stdout",
          "text": [
            "¡Hola Mundo!.\n"
          ]
        }
      ],
      "source": [
        "print('¡Hola Mundo!.')"
      ]
    },
    {
      "cell_type": "markdown",
      "source": [
        "Ejercicio 2\n",
        "Escribir un programa que almacene la cadena ¡Hola Mundo! en una variable y luego muestre por pantalla el contenido de la variable."
      ],
      "metadata": {
        "id": "viyzaOkYDg4z"
      }
    },
    {
      "cell_type": "code",
      "source": [
        "x= '¡Hola Mundo!'\n",
        "print(x)"
      ],
      "metadata": {
        "colab": {
          "base_uri": "https://localhost:8080/"
        },
        "id": "uSjgvvGVDmzK",
        "outputId": "7258aa29-6f9a-42d7-f7c0-58b3983902de"
      },
      "execution_count": 2,
      "outputs": [
        {
          "output_type": "stream",
          "name": "stdout",
          "text": [
            "¡Hola Mundo!\n"
          ]
        }
      ]
    },
    {
      "cell_type": "markdown",
      "source": [
        "Ejercicio 3\n",
        "Escribir un programa que pregunte el nombre del usuario en la consola y después de que el usuario lo introduzca muestre por pantalla la cadena ¡Hola <nombre>!, donde <nombre> es el nombre que el usuario haya introducido."
      ],
      "metadata": {
        "id": "ebmy5rzDDuTj"
      }
    },
    {
      "cell_type": "code",
      "source": [
        "x= input('Cual es tu nombre =>')\n",
        "print(f'¡Hola {x}!')"
      ],
      "metadata": {
        "colab": {
          "base_uri": "https://localhost:8080/"
        },
        "id": "Y8ixX8uMDwOF",
        "outputId": "22736bc5-249a-4336-9441-7b326c63253d"
      },
      "execution_count": 3,
      "outputs": [
        {
          "output_type": "stream",
          "name": "stdout",
          "text": [
            "Cual es tu nombre =>jesus'\n",
            "¡Hola jesus'!\n"
          ]
        }
      ]
    },
    {
      "cell_type": "markdown",
      "source": [
        "Ejercicio 4\n",
        "Escribir un programa que muestre por pantalla el resultado de la siguiente operación aritmética"
      ],
      "metadata": {
        "id": "W4J4XyFvEKgJ"
      }
    },
    {
      "cell_type": "code",
      "source": [
        "print(((3+2)/(2*5))**2)"
      ],
      "metadata": {
        "colab": {
          "base_uri": "https://localhost:8080/"
        },
        "id": "4GNbi4yLEY60",
        "outputId": "1c421178-c9e4-4997-cc4b-f6e797385120"
      },
      "execution_count": 5,
      "outputs": [
        {
          "output_type": "stream",
          "name": "stdout",
          "text": [
            "0.25\n"
          ]
        }
      ]
    },
    {
      "cell_type": "markdown",
      "source": [
        "Ejercicio 5\n",
        "Escribir un programa que pregunte al usuario por el número de horas trabajadas y el coste por hora. Después debe mostrar por pantalla la paga que le corresponde."
      ],
      "metadata": {
        "id": "JQ0ScAXQExk8"
      }
    },
    {
      "cell_type": "code",
      "source": [
        "x=float(input('dime tus horas trabajadas => '))\n",
        "y=float(input('Costo por hora =>'))\n",
        "z= float(x*y)\n",
        "print(f'Tu paga es => {z}')"
      ],
      "metadata": {
        "colab": {
          "base_uri": "https://localhost:8080/"
        },
        "id": "VyIfeipOEyri",
        "outputId": "8e3c8472-7313-4331-979f-48cb575711da"
      },
      "execution_count": 7,
      "outputs": [
        {
          "output_type": "stream",
          "name": "stdout",
          "text": [
            "dime tus horas trabajadas => 40\n",
            "Costo por hora =>13.27\n",
            "Tu paga es => 530.8\n"
          ]
        }
      ]
    }
  ]
}