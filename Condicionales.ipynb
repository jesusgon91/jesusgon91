{
  "nbformat": 4,
  "nbformat_minor": 0,
  "metadata": {
    "colab": {
      "provenance": [],
      "authorship_tag": "ABX9TyMA+POMpM6VufntTITSGAnR",
      "include_colab_link": true
    },
    "kernelspec": {
      "name": "python3",
      "display_name": "Python 3"
    },
    "language_info": {
      "name": "python"
    }
  },
  "cells": [
    {
      "cell_type": "markdown",
      "metadata": {
        "id": "view-in-github",
        "colab_type": "text"
      },
      "source": [
        "<a href=\"https://colab.research.google.com/github/jesusgon91/jesusgon91/blob/main/Condicionales.ipynb\" target=\"_parent\"><img src=\"https://colab.research.google.com/assets/colab-badge.svg\" alt=\"Open In Colab\"/></a>"
      ]
    },
    {
      "cell_type": "markdown",
      "source": [
        "Ejercicio 1\n",
        "Escribir un programa que pregunte al usuario su edad y muestre por pantalla si es mayor de edad o no."
      ],
      "metadata": {
        "id": "TVSFbHiHZUFS"
      }
    },
    {
      "cell_type": "code",
      "execution_count": null,
      "metadata": {
        "colab": {
          "base_uri": "https://localhost:8080/"
        },
        "id": "BQPR9wodZQpO",
        "outputId": "107b512d-78bd-4e11-8fd1-0fef7cf1cc8f"
      },
      "outputs": [
        {
          "output_type": "stream",
          "name": "stdout",
          "text": [
            "Ingresa tu edad => 18\n",
            "Eres mayor de edad!!!\n"
          ]
        }
      ],
      "source": [
        "age = int(input('Ingresa tu edad => '))\n",
        "\n",
        "if age >= 18:\n",
        "    print('Eres mayor de edad!!!')\n",
        "else:\n",
        "    print('Eres menor de edad')"
      ]
    },
    {
      "cell_type": "markdown",
      "source": [
        "Ejercicio 2\n",
        "Escribir un programa que almacene la cadena de caracteres contraseña en una variable, pregunte al usuario por la contraseña e imprima por pantalla si la contraseña introducida por el usuario coincide con la guardada en la variable sin tener en cuenta mayúsculas y minúsculas."
      ],
      "metadata": {
        "id": "uEejyS57aUpq"
      }
    },
    {
      "cell_type": "code",
      "source": [
        "pasword = 'clave'\n",
        "pasword_user = input('Ingresa pasword => ').lower()\n",
        "\n",
        "if pasword_user == pasword :\n",
        "    print('La contrasena coincide')\n",
        "else:\n",
        "    print('La contrasena no coincide')"
      ],
      "metadata": {
        "colab": {
          "base_uri": "https://localhost:8080/"
        },
        "id": "Sre078WKaUhy",
        "outputId": "3c5f6898-aa2a-449f-e9d4-4494bf3f59f7"
      },
      "execution_count": null,
      "outputs": [
        {
          "output_type": "stream",
          "name": "stdout",
          "text": [
            "Ingresa pasword => ClaVE\n",
            "La contrasena coincide\n"
          ]
        }
      ]
    },
    {
      "cell_type": "markdown",
      "source": [
        "Ejercicio 3\n",
        "Escribir un programa que pida al usuario dos números y muestre por pantalla su división. Si el divisor es cero el programa debe mostrar un error."
      ],
      "metadata": {
        "id": "qcAKvwEmbtv3"
      }
    },
    {
      "cell_type": "code",
      "source": [
        "a=float(input('Ingresa un dividendo => '))\n",
        "b= float(input('Ingresa un divisor =>'))\n",
        "\n",
        "if b == 0:\n",
        "    print('No se puede dividir entre \"0\" ')\n",
        "else:\n",
        "    print(a/b)"
      ],
      "metadata": {
        "colab": {
          "base_uri": "https://localhost:8080/"
        },
        "id": "PUo8imfEbt1h",
        "outputId": "a801f1de-9d2e-4d94-c2c1-044a816dc44c"
      },
      "execution_count": null,
      "outputs": [
        {
          "output_type": "stream",
          "name": "stdout",
          "text": [
            "Ingresa un dividendo => 5\n",
            "Ingresa un divisor =>0\n",
            "No se puede dividir entre \"0\" \n"
          ]
        }
      ]
    },
    {
      "cell_type": "markdown",
      "source": [
        "Ejercicio 4\n",
        "Escribir un programa que pida al usuario un número entero y muestre por pantalla si es par o impar."
      ],
      "metadata": {
        "id": "8yv5zWE0dcBA"
      }
    },
    {
      "cell_type": "code",
      "source": [
        "number = int(input('Ingresa un numero entero => '))\n",
        "\n",
        "if number  % 2 == 0 :\n",
        "    print('El numero es par!')\n",
        "else:\n",
        "    print('el numero es impar!')"
      ],
      "metadata": {
        "colab": {
          "base_uri": "https://localhost:8080/"
        },
        "id": "_Q9Nd69wdcJp",
        "outputId": "586fe930-3a68-425f-99bc-ec2c5b93f327"
      },
      "execution_count": null,
      "outputs": [
        {
          "output_type": "stream",
          "name": "stdout",
          "text": [
            "Ingresa un numero entero => 2\n",
            "El numero es par!\n"
          ]
        }
      ]
    },
    {
      "cell_type": "markdown",
      "source": [
        "Ejercicio 5\n",
        "Para tributar un determinado impuesto se debe ser mayor de 16 años y tener unos ingresos iguales o superiores a 1000 € mensuales. Escribir un programa que pregunte al usuario su edad y sus ingresos mensuales y muestre por pantalla si el usuario tiene que tributar o no."
      ],
      "metadata": {
        "id": "vM2cdKM7ei1I"
      }
    },
    {
      "cell_type": "code",
      "source": [
        "edad =int(input('Ingresa tu edad => '))\n",
        "ingresos = int(input('Ingresa tus ganancias => '))\n",
        "\n",
        "if edad >= 16 and ingresos >= 1000:\n",
        "    print('Debes tributar!')\n",
        "else:\n",
        "    print('No debes tributar!')"
      ],
      "metadata": {
        "colab": {
          "base_uri": "https://localhost:8080/"
        },
        "id": "Jao6gSJCei8d",
        "outputId": "5bb13562-8e69-4886-cb5f-cada06be4ce8"
      },
      "execution_count": null,
      "outputs": [
        {
          "output_type": "stream",
          "name": "stdout",
          "text": [
            "Ingresa tu edad => 15\n",
            "Ingresa tus ganancias => 9000\n",
            "No debes tributar!\n"
          ]
        }
      ]
    },
    {
      "cell_type": "markdown",
      "source": [
        "Ejercicio 6\n",
        "Los alumnos de un curso se han dividido en dos grupos A y B de acuerdo al sexo y el nombre. El grupo A esta formado por las mujeres con un nombre anterior a la M y los hombres con un nombre posterior a la N y el grupo B por el resto. Escribir un programa que pregunte al usuario su nombre y sexo, y muestre por pantalla el grupo que le corresponde."
      ],
      "metadata": {
        "id": "BwXeUWD_fbW_"
      }
    },
    {
      "cell_type": "code",
      "source": [
        "nombre= input('Ingresa tu nombre => ').lower()\n",
        "sexo = input('Ingrese su sexo (m/f) => ').lower()\n",
        "\n",
        "if (nombre[0]<'m' and sexo[0] == 'f') or (nombre[0]>'n' and sexo[0] == 'm'):\n",
        "   print(\"Eres del grupo A \")\n",
        "else:\n",
        "    print('Eres del grupo B')"
      ],
      "metadata": {
        "colab": {
          "base_uri": "https://localhost:8080/"
        },
        "id": "LYR-fwYhfbgS",
        "outputId": "e1725ee6-d4ca-4791-cd8a-3afcaadcbd1c"
      },
      "execution_count": null,
      "outputs": [
        {
          "output_type": "stream",
          "name": "stdout",
          "text": [
            "Ingresa tu nombre => Antonia\n",
            "Ingrese su sexo (m/f) => F\n",
            "Eres del grupo A \n"
          ]
        }
      ]
    },
    {
      "cell_type": "markdown",
      "source": [
        "Ejercicio 7\n",
        "Los tramos impositivos para la declaración de la renta en un determinado país son los siguientes:\n",
        "![image.png](data:image/png;base64,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)\n",
        "\n",
        "Escribir un programa que pregunte al usuario su renta anual y muestre por pantalla el tipo impositivo que le corresponde."
      ],
      "metadata": {
        "id": "fAg0gQ4O2HWY"
      }
    },
    {
      "cell_type": "code",
      "source": [
        "ingreso =float(input('Dame tus ingresos anuales => '))\n",
        "\n",
        "if ingreso <= 10000:\n",
        "    tramo = 5\n",
        "elif ingreso >10000 and ingreso <= 20000:\n",
        "    tramo = 15\n",
        "elif ingreso >20000 and ingreso <= 35000:\n",
        "    tramo = 20\n",
        "elif ingreso >35000 and ingreso<= 60000:\n",
        "    tramo = 30\n",
        "else:\n",
        "    tramo= 60\n",
        "\n",
        "print(f'Tu ingreso es de {ingreso} y el impositivo que te corresponde es de {tramo}%')"
      ],
      "metadata": {
        "colab": {
          "base_uri": "https://localhost:8080/"
        },
        "id": "PD3Od7a72Hge",
        "outputId": "0faa3f88-0ab0-4e04-cba1-6512d7318397"
      },
      "execution_count": null,
      "outputs": [
        {
          "output_type": "stream",
          "name": "stdout",
          "text": [
            "Dame tus ingresos anuales => 25412\n",
            "Tu ingreso es de 25412.0 y el impositivo que te corresponde es de 20%\n"
          ]
        }
      ]
    },
    {
      "cell_type": "markdown",
      "source": [
        "Ejercicio 8\n",
        "En una determinada empresa, sus empleados son evaluados al final de cada año. Los puntos que pueden obtener en la evaluación comienzan en 0.0 y pueden ir aumentando, traduciéndose en mejores beneficios. Los puntos que pueden conseguir los empleados pueden ser 0.0, 0.4, 0.6 o más, pero no valores intermedios entre las cifras mencionadas. A continuación se muestra una tabla con los niveles correspondientes a cada puntuación. La cantidad de dinero conseguida en cada nivel es de 2.400€ multiplicada por la puntuación del nivel.\n",
        "\n",
        "![image.png](data:image/png;base64,iVBORw0KGgoAAAANSUhEUgAAAXIAAADnCAYAAAAD+N1NAAAgAElEQVR4Ae2d/WsbV9r+n79pBhb2hwcCjzAsIWHphm0a2KRmqWtiaqiJaUjohpiQ4uDUiK0JblBNUM233rpFwQmKmzpuqRWKotAqTlk7JK4olcAwYJBIYSBwfTkz58yMRqM3Z+wZSVfA1duZ83Kd+3zmnPvcZ/o/4D8qQAWoABXoaQX+p6drz8pTASpABagACHIaARWgAlSgxxUgyHu8A1l9KkAFqABBThugAlSACvS4AgR5j3cgq08FqAAVIMhpA1SAClCBHleAIO/xDmT1qQAVoAIEOW2AClABKtDjChDkPd6BrD4VoAJUgCCnDVABKkAFelwBgrzHO5DVpwJUgAoQ5LQBKkAFqECPK0CQ93gHsvpUgApQAYKcNkAFqAAV6HEFCPIe70BWnwpQASpAkNMGqAAVoAI9rgBB3uMdyOpTASpABQhy2gAVoAJUoMcVIMh7vANZfSpABagAQU4boAJUgAr0uAIEeY93IKtPBagAFSDIaQNUgApQgR5XgCDv8Q5k9akAFaACBDltgApQASrQ4woQ5D3egaw+FaACVIAgpw1QASpABXpcAYK8xzuQ1acCVIAKEOS0ASpABahAjytAkPd4B7L6VIAKUAGCnDZABagAFehxBQjyHu9AVp8KUAEqQJDTBqgAFaACPa4AQd7jHcjqUwEqQAUIctoAFaACVKDHFSDIe7wDWf0+VsAoYunmEoq7Zh83kk0LQwGCPAwVu8nDrKL86w52nu/AeNnNhUw7UAq8LGPt2gnoug79XBrFvYFqPRvbpQJ9C/Jq2YblTrkaKIlplC2Yit/VfKf6fA1zH4xiMpnFVvBlgXl186X5awYX/1eHrp/C3KMDKqSbCoWZ9qWB8nOpu3wt71ZhvgqzkB7PyzSQ/2IKo2enkP6x7NheXateVVFcnLQhrp/A9N0dVKlhnUT8UK9Af4L8lYG1j4bsgfC3aayVFapV46vYujVq/34hA+tnMXhuDsvBc3CQ7WeQm9tpjIoZZMDfqfenkbpXhOHvCtUlYb++LCN/P4vsvQ3sxOh+af6WxdSQ1OhCBjsNepgoP5jFKUvDU5i+txMM+7D1Yn49rUD/g1zXMXwz75vR1INcDSbjUcoG0T/nkN89mH4dVJAruI/ezMM4hNmlBcy/6ND/7yKyvzXQ8mA6t5NcX+4ge+UYdH0IF78OgLRpYOOmmGScwuz9gN87KYNpBk6BgQC5rk9iads7LasHecOE/QDNYDBAPor0L7be5p6BnScbyFxTqx3RFwcPVvN5BpNiVnskZiDvxLZeVVH+zeBMvBOtmMZSYEBArmPoStZ2oVjNDga5+Vse2bsZZO/nUX5povxoDdnbGWS/32qcRZplFO9nkbmbxYa6SYgB+GQD2S/TmLs+i7mbaWRy9f7NQQO5M852NzD9N9ulMHnbnmlWtzeQvZtF9oHP5VLdwca9LLJ311BUd1n13f0iylWp8xcpzCbnkP56AztqM/BVFVvfZ7F0YxJD0j0x9VkGGU8/dlWu1QATxi8byHyRRuqTWUxfn0NqMYv8r97JgdNSVMtbyN/PIH1zFrMi7RdZ5H+TaU3Dql/mdhYbvxjuReKdsJ9f8lj7Oo255CzmbmWQzRVRVm2TqYWdrgndftxBtWpgK5fF0s05zH6SwtL9rcNzX9XXnp8iVKD/Qf63U86AnvtRDZxgkBsPpnFMDP6/TmNj10T5/pR9bcDyvPqL8gfL2Wd1B9mPTgX7h69lsSMjVAYW5NUiUu/aIB9f3IIJE1tfjNt6vZtC0cNE4Ra5eESkdfcqzF+zcpP4CE69daRR53/MYk24UF7uYOmc9EFbIPe8f38JWy+7KxfVLWSa9Kt+ZBJLTzwVFzeR21M44S9XfP7TONKPDIj80u95dZCjX7hcrgXbj/73KWTUZAGAY6d/OoVTwn3kK+/Y5Uys9gUi5NvAFN33ID+VzCJzXQ6Q99MyGqUTkAMor2H6r2Kg/BkX73r9lVUU1WapgsPXKspgCJOfZLDxKI+1W2pQD2H6vh2hMKggrz5JY9wCzhCm7peBViB3oB0Echtcx8Tm6a0Upt+Xm9q6jskvd2DKGXn6utzM1k+hfkbeAuQB5cIsY+0j4dPWMXo5hcyDDWzcnsO43LAcuuyu9Nw26tD/MYXU7Q3kf1xD+sowjrw9iw2xuggEuYktx350jF637ccq508S1I7tekBu6flnjF6ZQ/qzWUz+XUF9GKmfPDeYgcHZ4Da0/0H+SR7l51lMHRNGfgRTAshisCsQq6gV70zHmpGLpa6Bjet2LO+RD90Bi2oR6bP2oLHgsVdE6p/259HPiu7GqicSZuijNWvJOxggP4HZe0VsPd9C8dEGsremMaqA9NYsNqyN5O6A6s7IdYze2HDdZB4wnri+4bjAjNysPTNu8JF3V65Ag7m7hWKdG8VE+d4UjgiQ/mXKjooStpKUcd+ijcolZGVgQIRhWv889bVXJgA89nOszgUIGN/LdugnMJuzV5TOjFyvj2oRtjVphbYewdS9JqGNdi343z5TYCBAXjXF4JUzZmuQdQhyAXcvEH61N+nEzMsKs/vTJDLPTbhulmHM3RcAU7HUW8h/Kd0z0n0wGCBXM0Pf6/9NIv2Tcm91B9SmunlCTYeurB0IyNWYN6tl7DzJY+1eBkufjOPP1ox4HEvPTWAvj7l/eG7m6iL/awDIXfs5Adf9Jy/0QH74pj1JcECuJhyqDE8dJoMiYlQ6vvadAoMBchHuZuQx58yaN7BxS/pnW83IRXeLwfG2PUAvik06McuWs/k/izjglx7YWwPbBy/13VtzyO8BTYHUB6YVGEf+l1FcvCY24fLY2fNGq4QHcrVqEiBXE+G6G3Bd+GF35YpuMY0isknlqvH377gVhWOW1zBl+auV66hJhwaA3Kmrbk8M6q40y8h++GfLtWOt6l55XCt+kIt9CGmrBHmdin3/YXBADnHQQm5m6qOYuizD4dqB3OMe0QW4d5Vb5Qgu3rWXr+5A1HHq3EVMXZ5q+Ju+uWZBfzBA7oYfNh9B3QG1qW4e99eBgHyv6GxOitjv8WtpK5Ikf3dabmpKkDsHfWy3RtN2E+RNpeEP+1dggEAOK6Ihc8Ge3Tg7/e1ADqD6RB4UOnIR6bvy/dCUc9Ck5dLY1zdNgeRL14sf3Rl5ZyDf+VKuiv5hr1ZUm11/uHezs8mjDfYB8m7KNb6XN///ncSSjI0X9RQ2MaxcKyIuXqz43rJn68oFotpT9xoAcq/9KD+4c41nRajybepa4YzckW3Q3gwWyMUA/EmFDcolcgcg90YaqBuAd/Zn/S43P49Id4trSCaM38rOBihB7irjbBh6XQovd7B2XR0e2j/IXdA23lQ6L9fEjoomeTvlPrhKrNK+vCjDWu0ZubUxnpTRUf6wxL0dbDzI226fAJDX2df7ngdkiU35Ly/am6q6G4lCkLs2xHe2AgMHcogj0GrAiRmV53kXTQeIN1TOmoUdw/QDEUKn/pkof6+ej6Hj2IU5LN3OIPNlGtPvifC4UScczPWl6hi9toR8Hz2itLsZub1fMKmiWf4+jouXL2JcHhqyb5j7Bzk8B5D0t6eQWkxj7qYdzy9upp2Wa/w458SFj19PI3N7CXMfeuO9JciFL/15BhfVc1T0U7j4SRpLwgas+PljmBLPTQkCudxUt5+vokP/5xTmbqUxd8X1y5+45vH/KxchfeRqAA786+CBXAw4ES+sBlwnM3JrkC7ZR74FyP8mDgz5bEfM0m5Py4cd+TbE/jSOVE6Gg73cQeYD9bsLKl9uPfmxW5CLWWzeeq6I0sN+Hf1wCpNWuKirT9OVTBPXijglWVQb2tbN13Ncv4tyIR4nq84hqHxETPmHU/IBYS7IRWx8+cc0JgMO6ejvziIrTnI2Abmo71YT+zlxeQlFz9PGmk446FrpyXETRqX7E+TWgMoiezuLtZ+C4mk9x+89R+jrj+j75DUNFB9kIY5WZz3X+FLBNHaQv7tkHeUWR6zXHjU+d9wsF5G9NYc5ccy7LqLCn1uPfTa2sHY3g8zdNWx5wNOyFULX+1KvzzLY2DZgmlXr2HndEX3hnrgnHongObZvZaz60j6yXvfI3FcmyuJo/WdzmPtsyX7Uggqc6bRcUYZ1yChj9+liBhtPyqi+lPZwdwNbviP0qJZRfJBB+sasVa5lA55yxSMEAo/oiwnD7hY27rpH9Dd+KTc8BripnXps1HlsREvx+WO/KNCnIO+X7mE7qAAVoALtFSDI22vEFFSAClCBWCtAkMe6e1g5KkAFqEB7BQjy9hoxBRWgAlQg1goQ5LHuHlaOClABKtBeAYK8vUZMQQWoABWItQIEeay7h5WjAlSACrRXgCBvrxFTUAEqQAVirQBBHuvuYeWoABWgAu0VIMjba8QUVIAKUIFYK0CQx7p7WDkqQAWoQHsFCPL2GjEFFaACVCDWChDkse4eVo4KUAEq0F4Bgry9RkxBBagAFYi1AgR5rLuHlaMCVIAKtFeAIG+vEVNQASpABWKtAEEe6+5h5agAFaAC7RXYF8hfvHgB/lED2kD/2EB7VDBFnBUgyHlT4k2ZNhBnRrFuHSiwL5Cbpgn+UQPaQP/YQAesYJIYK0CQ86bEmzJtIMaIYtU6UYAg5yAmyGkDnbCCaWKsAEHOQUyQ0wZijChWrRMFCHIOYoKcNtAJK5gmxgoQ5BzEBDltIMaIYtU6UYAg5yAmyGkDnbCCaWKsAEHOQUyQ0wZijChWrRMFCHIOYoKcNtAJK5gmxgoQ5BzEBDltIMaIYtU6UYAg5yAmyGkDnbCCaWKsAEHOQUyQ0wZijChWrRMFCHIOYoKcNtAJK5gmxgoQ5BzEBDltIMaIYtU6UYAg5yAmyGkDnbCCaWKsAEHOQUyQ0wZijChWrRMFCHIOYoKcNtAJK5gmxgoQ5HEbxI/noWkaJu5UOgBsBSvnNGjaPApxawfr00H/xed/TBFjRrFqHShwCCCvYP3aCEZGF7HJwd1+cBPk7TXapx3Vfi9g5fMFLKQWsPxdCUaX+RjP1rGcEtcvYuVxJzfa+IC63f/NqQNWMEmMFTgUkA/OrLGElfc1aDcK+4cRQb5/7VqAuZS9hKOahsQJMak4Y7+/sIJSi2tc+NVQ+HQECU3D0dMjGHnnDev9mRsF1Dq6Pv5AjzGjWLUOFCDIQx2IBcxrBLkLwJgA7PcVTGgaBHidWXhp2f7u1mbbG0ft8TxOagmcv11y0hoPk9Z3V781nO9i1+4ubLsDVjBJjBWIDuQ1A4ZRcwaB8ayA3MMcck8rLWY5NTjpHhawvdsKFN60m6jUgtJ60jzehvFHY5qaYcDYk9/XKtgUdXyYw+bvbt2tAWy1Zx1JAfLkOgxxnWGgVpenp7xm9ffNyJ32BtavnY/cU17g9Y3t7WUYNat76T8j0LRLWPXZS+FGAlqi3f5CDbmPNWhvLvhcg1L7cyuodAHMZnWM+vsYM4pV60CByEBeuTMBTUsit7uJxXNHrQ0+sckn/hLv+P3pBrbvzGDsuP27SqdpZ3D1u0ZfZe3ZMi6dSNTlqSVGMONNW1rHzDu+NMcvYfmZF9BysH68is07MxhJeMtPYORTd2lduOH9zX0//1jAsov6S5Bf/WodCz5dtOOXsPIioH5Bm50dtW8QQF7B6gUN2vuNbpTaDzPQtJNYeNpKh03Mi37/d6O7zL5BXMW60er63vitA1YwSYwViBjkCSQSR3Hpq00YYsb8h4HcjTMWgOuXrAbWPxrDzFcFd2ZtFDB/WoOWSCLnnW2XVnBeDLzTSayrWfMfFeRS81j9XQ6qPfvaxPgCCmqW9kcJq1dOQntzHgUnPzXjFTeXGaw8lcvoWgXrSVHPBJx67hkw/msv1xtn5F3UX4Jc047i0udue42ny7Jd3pmhqp9vVtlx+3oDMq83W23h7nqxjBFNc/swaGYt3TJBUUSd3Qh6Q+MYM4pV60CBiEGu4VLW52M01nG1Qz+z8e1VC6bzP6vBIoApZtkTWCmp7xpftz8/Ay1xFesK4moA767ikqZh5gc161WgTCJX5yIxYdZySIobhndpLQd9p5udjfU3YSrXyleuP1aBrPTVmN1ea5Yv2qXqVw/yztvXqI0qq39eW4C8BaSd9rdKI/vKXnX1tpYdsIJJYqxA5CBvHAQtBp4C7p6BivCp/79L9bP3Wg4z4iZwZd3d1FLXOK8lLI9q0D7OBfji7d9OOhtgwaC0B7n0nWoz7oqgU5A3q7+oowJ5UBy5nEGO/EdBPqh+3bSvt+HjwNbp26D2tLCnVpBWebZKQ5DHGG2DVbXeAfkfFRTuzOO85ftO4I13RjBx1nbDOMvejkAqB7b0x7v+dtev7c6og0DpwsL2i09gRblsWpXfSf3bgbwh/6D6ddM+ty2dQbEX0xPknfTtYGGv/1rbGyCvbWJBbEwen8DCd57oEv/stQF0QeCRA/vyoh0lI6NQrIgZ+b5Q8rtW6l0XamDYID+P1Yosp1n5nda/Q5AnPlUhcy1A3lH7gvTpt+82sfBmkxWYtJ9kvkWbpavPXQW5ae0N+9ZuPGUrcX/tP7QNVot6AuS2LzkgusAPcrNgh//9a7Wla8U6tDO63MFhkCBQqoEsXRjesLQmIO+8/q1dK/bmmndzLqh+8lBSR+1Tbenn12bhgyYcEKsVlXKn1L3Kfg5w13UWvtgb2g4W9vqvtT0B8mYDzgak97kkNeSSYrPzDOYfq1l140CyNw1PIplvnsaeQSlQJhueZVLLiwMhGk6m1OzYhFlZxfmAjdrO6+8BuefwiV2XknyuijceWtWvfsXQefsatYn7zHE/9as9TCKhnfTZRAnLZzVoZ3039Momcv+t34C39fS40ATo93KYSWhIJIP2WnpP1/5D22C1qCdAbg9EDWeS6yiJgzaVbaynJnA0kbCOSjs+cjHAfl+1w/QSY5j/bhsVkb5UwLJ43ouziVnCygVxGGTECmm08jQq2H64jJlrq54DHgqUGhLjSaw8LsEQ6b6bx5gV4jiPgjosZM3iJBwS57HyTBwIKqGya6Kr+stVhqjbpc/XsV2R9f/IDnc8f0dtdApYGFi/Inz7V7G6670pddq+3gPOfkBumrJfTl/FytOK1S92+OgZzP/s0U1FIvljyxW0x+eRKwn728SyZT/n3ZDWull87+k6WNjrv9b2BMhN033Whb05eRRjH69ge9eOUqkDuRhQu4WGwzRHz85gxXvYZ28bKx+PWc/ccDY8E2/gfMpzjFuF940uYNV3IOjoOU8MumcQi+Pc3oNDtm+1i/pbIJ/Ays++Noibzp3thkgbsSoRzwBpOHnYUft6Dzj7A7kJ0/AdPBN6fuu9KXpCSrUzWPyvT5vSav0BsuMTWHzquQl4bGDfdYwwj/5D22C16BBA7hsQr2Os4tCNmGE7B3ba5K3Sex4F0DDI/qi5x+kb6qZm5NJ14aRtM4CbpVP16bT+oj7ymvqj/vXtth4j0KyNTl2MhptAgxYN7a8vpx/S21r5H53gaad41ELdKsvzm2nCub7PtBos7PVfa3sL5Ic+eHwgP/Ty6yHSDyBlG+LZp/2HtsFqEUHeEs4EOcEbT/CG3S+Dhb3+ay1BTpA7T6AMGw7Mr3duAv2HtsFqEUHeEuQ1VH4Wj63dbhGX3juDlWBlXzWzgcHCXv+1liBvCXIO/GYDn9/3l230H9oGq0UEOUFO1wptYLCo14etJcg5iAly2kAfom2wmkSQcxAT5LSBwaJeH7aWIOcgJshpA32ItsFqEkHOQUyQ0wYGi3p92FqCnIOYIKcN9CHaBqtJBDkHMUFOGxgs6vVhawlyDmKCnDbQh2gbrCYR5BzEBDltYLCo14etJcg5iAly2kAfom2wmkSQcxAT5LSBwaJeH7aWIOcgJshpA32ItsFq0r5A/uLFC/CPGtAG+scGBgt7/dfafYG8/2Rgi6gAFaACvasAQd67fceaUwEqQAUsBQhyGgIVoAJUoMcVIMh7vANZfSpABagAQU4boAJUgAr0uAIEeY93IKtPBagAFSDIaQNUgApQgR5XgCDv8Q5k9akAFaACBDltgApQASrQ4woQ5D3egaw+FaACVIAgpw1QASpABXpcAYK8xzuQ1acCVIAKEOS0ASpABahAjytAkPd4B7L6VIAKUAGCnDZABagAFehxBQjyHu9AVp8KUAEqQJDTBqgAFaACPa4AQX7IHWjcm4Su60g96aRgA9kPdOh6CsVOkjMNFaACA6lAvEBuFpE6O4rRs7PY2OvP/iDIo+tXc7eI7BdppG+lkcmVUd1vVV6WUXyUR/4XA+Z+8+B1VCBEBWIFcvPRHIaGjuHYkI6pB/seZiHK48uqnMVkx7Np37XyI0EerMtBf1u+P4Vjuo6hv4uJwrD9/sMsyl0XbKJ4c9haVekfZGF0fT0voALhKxAjkJvIJ3XoyTWsidfLa/ufMYWvk53jk1QXbpHgShDkwboc6Le79g14+GbRtalyxropDy9udVW0+SSFYX0c4+/pIMi7ko6JD1CB+IDczGNW1zH9fRXV76eh61NYa+leMVH9tYi8WOI+2oIRtMZ9ZaK8LX7PI78dvAw2q1VU1bV7O/aS+VERO76yrXS5OQvkc7kqquI650LVQ946NeYhUtWD3ITRsn5tfOQdtE/VbJBfy1+PBtpT8eYQ9KEu9h9eFpF6W8fwZ1vI3yTIB9mm4tb22IDc/HEWuj6J7C6AvTVM6c3dK+avGUz9fche3upiM1CHPjSK2Zy70DW3lzD5V/mbTDP07hzydYAuIqXrGP0yj+KtSWu5beVlpT+Gqftq4W2nc39T+SoIVLFzbxbjvvJ0fRjTnjqJzrdBPor0/Sxm361vQ2P9moO8s/bFzdyiqI+BtQ916Oca3Si2zZ1CeruTekmXyltzKL6U/ULXSifCMc0hKBATkEu3ijMwWgyUchYXh3Tob89hY1dOpV8ZyN9KYU3cBMQ/mWb42hrKarZd3UK6YTnsAvrYB2nkVX57W8h8KCA77AxyMSPf+dqOOGmckVexcW0cs7eL7sqgas/e9KE55FUdHJDbN565BzuovhIVNmHk5jAsfLgfbbjLfzQBecfts+UY7P/KPr4ZEPfzWwajchXYTiPbpXIKcz+Jzmxhn+0y4u9U4AAUiAfIpVtl/LaaAauZq5yhOw0XwBSAnUTWTer8ar+Rad5Oo8H7uZ3GKX0Umd/UJXKQn8s0bnr9lsG4AKsHAPVuEZVH81fbRTSE1C9uGpXH3CP3O/udifwnsm3qhqSAURd+2E37/GUM4ucWIJe+88l77kouUKGXRcy9pUP42O17MkEeqBO/jEyBWIDcXuJ6AQtAgrRukEng63WzVp92Ms3o1wGk9/jh7avkIHdWAt68ysic1aGfdSGvINw2BvxlFYbw3385Zbl9hN9f/WuVh62Djtkf1RQ+YEbeVftUqYP8+rogN1G8cQr62ykUXyodCXKlBF/joUAMQC7dKvo4pm/ZMb4izjd9a9qaEddFBsgZlO6ZJTfIqNIo33nAq3tzaAXyRoi2gjBeGSjeS+Gi5bsfwol3RzH5nh2m5panVhpNDgTJqBg3fWMd0FX7GtQZwC9eD+TmT3M4pQ8j9Yu6uQoJCfIBNKRYNzl6kFc3MO3E94oYX8+fBUWPe0VBrAOQj95YkxEtMmrFim6x37sRKR2AfCjluGiagtzcQlpsXP51Eumc8nsDaABzZyC/eF8t9ZuDvLP2xdr2DqlyW0i/JcJa842Hd2T/zP3UrCpKf7W53eS1lT02y5rfU4EQFYgc5LYfuUnkgOXT1uHOUIuYEzPsljHmMk3QwG0QrgXIA9w4zUDetA1dgtwOk/NqoUCiomNEA7ppX0ODB/ALueJ7q3HPxO5Pz0QhQB0r7NQKNVUhp+J1B5lzIhImgx3xm+NyCciAX1GBQ1AgYpBXsfGRDj1gkNltl7Mpx4etNgSHkXriXep6lVJpWm2IqvQS5AGhaeW7doSK94Spcf+i5fP2+8ibAcEGvPdG5M7IG2aBckOtXosgkHfTPtXOwX61Tgzrp3w2U0ZGRDG95+6BWCoZW8g/d/c0gpWT/eLYZXAqfksFDkuBaEGu3CotlqbWoQ193I002V2zww+HxpHK7cAQM6JyEZnroxhVp/TkwQ3l6rDSVMvYepDG1C0VeSAkliDXdQxfXsLGrwaq1TKKt6ftUED/EW4VyfJh1p6JlQ0rVNAGhY7hTzZQFvUxdrAh4tKHhjCkB4Nc1C11r2ilN37dQOp9O9yx/gYlb3T6NNb2PDeujtt3WGYU93IktN+eRnbb7uONT8T+hc/3beYxJ0Jbde+qKKhtBHmQKvwuOgUiBXn1gYjqGGr9JMAnKQuG3tBE7BWR/uBY3YGgY+/NIvurB3YizYUT1rXOQZ6/jmP23o7HVypBfi1jg9fZGB3C6PUsdhqWzCaKn4168lSRNv7vj2E8mcXOnn1a1XUNqRl5Chu/+g4ECf/6T40zQTGrFzeD+pm6ODTVSfuiM6zYlVzdwpLXZsQBsu99kU0OyIex9LxVCwjyVurwt8NXIFKQv3ZzXyq/pQfg/kzNVml8PnKVtgHgvkxVuf5im33vu9z7Uflg/Vk1pmmSQtW54XEB3hz4Xing6G0dxFLfel6Fnu3635Ocb6lAHBTobZC/toI+kL92fsyAClABKnD4ChDkwm3BTavDtzyWSAWoQGgKEOQEeWjGxIyoABWIRoEBB3kVO/w/vURjeSyVClCB0BQYcJCHpiMzogJUgApEpgBBHpn0LJgKUAEqEI4CBHk4OjIXKkAFqEBkChDkkUnPgqkAFaAC4ShAkIejI3OhAlSACkSmAEEemfQsmApQASoQjgIEeTg6MhcqQAWoQGQKEOSRSc+CqQAVoALhKECQh6Mjc6ECVIAKRKYAQR6Z9CyYClABKhCOAgR5ODoyFypABahAZAoQ5JFJz4KpABWgAuEoQJCHoyNzoQJUgApEpsC+QP7ixcJIGpwAAAyjSURBVAvwjxrQBvrHBiIjEAsORYF9gdw0TfCPGtAG+scGQqEJM4lMAYKcNyXelGkDkQGIBYejAEHOQUyQ0wbCoQlziUwBgpyDmCCnDUQGIBYcjgIEOQcxQU4bCIcmzCUyBQhyDmKCnDYQGYBYcDgKEOQcxAQ5bSAcmjCXyBQgyDmICXLaQGQAYsHhKECQcxAT5LSBcGjCXCJTgCDnICbIaQORAYgFh6MAQc5BTJDTBsKhCXOJTAGCnIOYIKcNRAYgFhyOAgQ5BzFBThsIhybMJTIFCHIOYoKcNhAZgFhwOAoQ5BzEBDltIByaMJfIFCDIOYgJ8hjYgGHUIu2HyAjEgkNRgCCPwSDmc73757ne++nL2uN5nNHOYP5xdDAPhSbMJDIFCPIgkO8WsPz5KraNwwZMDdvfLGL5YSXS2dl+YMRr9mkrpRWcT2hIXFhB6Y995hFkw11+FxmBWHAoCsQP5D8vYmR0BCPnlrHdzBhrBcyLNKMzWK+Eb/yFGxo0TcPR1ObhAvX3FUxoouxLWN0Nv11xg63xbB3LqQUspBax8ngfNy+jhNydRSyIPD5fQeEAbOFANdsrYP60hHgzWz+k70OhCTOJTIH4gfzxvAVRTTuJhafBMKs9TCJhAW8CK78Hp3mdAVh7sY7F1CJyJW/eJay8r0G7UThAuBsofLWAhdubqB3SAH4dnfZ/bQ2FT0esPjx6egQj77xhvT9zo9Bxu40fkhhJaNASb9g3/hMJaNpRXLpdOsD+8dpDCO9LK7h0eRWlGPR1ZARiwaEoEFOQn8TJNzWcDJwR15BLJpA4O4YR7WBAHgyoAubFzeNAQR4CHGIAhWD93LYJn/BJLYHzHugaD5PWd1e/NdqD+MUyxjQNZ5LrqHjcEaVvFrFed/N1y2xXp0H/PRSaMJPIFIgpyCewcOsqtMQ8Cn4w1XKYEbP1VBJaU5DXYDwrIPcwh9zjbRiewa4GbM0wYNTkQK9sWmkLJbnZVDNgGAZq6jrr8zqSAuTJdeu3ut9VHf+oofQ0Z5f7tORer34Xr3/U7LzldxUrfQGlPbsuVr2aRTDslbAp2vQwh01VV2/ePfG+htzHGrQ3F7BZV98KVs5p0M6toFL3vR/GBlb/FXS9P12rzz77UHbQslwTVt/IfjJrFdkXBWzXucFqsPs0h83fW2xe1gxsP5a20sRGLVvd3UbhEPo8MgKx4FAUiC3IV54JYCeQfFg/GIxvr9oQyAsXTMCMvLSOmXfEMtv2c1uvxy9h+Zk3H3t2PXGnhFL2Eo7KtBNyhli5M2FdP//YhoHymdflqWlQv4sBV3u6iInjnjJFnscnsPizb4ZpuY4msFIqYfVfR2U9xWdRlpz1N8Cshs3PJ5x6qnocPbeIzUPfkG0FyE5+28S8cIn8u9FFVfrPCDTtKtZbtclYx1VNw8h/9ulCCbKPxAhmvmmXn7zR/DsH4+cFjIk2KBtLjGDh5xrMhrwTOH/Hl6+xjZWPxxr6Ujt9Fes+N6Fjm4k3cMZyHWlIvHMw+0Kh0ISZRKZATEEuICldKMmcx29qz8aEy6X2w0wjyNXm0fgCCmqW9EcJq1dOQntzHgVn5iWBeXYMY6evYuWpgdqeOwP3g9zcM2D8d9neiAyakculfsJb7u4mli+IG8qZel+/3AMYOzuGMx+tYHO3hpozAw8Geek/Y9C0BMZuFZzVhfF02Yp20E77Z7adwDTCNHJDd+JO4+am3afN90asGarUz7mJqtVTm9m0de1eDjMCwKevYvWFWn1VsJ48Y+nb2q0jQZ5IICFtRuQp7EJEnWjC1398BMnvKra9VtaRPC18+EnkHLszYe6u4+rZGSw/lulEHnkRfqgh4bV15T66UYCh2ra7iZU7ne8jWG1W17Z5jYxALDgUBWIMchP2pqZnhra7iktyE9SGbf2MfPvzM9ASV7GuIK6M17pOw8wPalYugamNYflFI9QaQC7yURElDT5yudQPijRR4PjXqjsY1Wbu2eWATa4AkMu6a948ZLsE+MSm76VvfLN+1e44vrYAuemHdED9K9nz9g1crGi8M9vEGzj/+aarc8C1m6mTCN5EL2H5bDt3jQR5w4pBuoo0OSv3lFu6LVZ2bW5MVnoD61cE9Oddd5PUIplvtM9uAN1p2lBowkwiUyDWILdcDQkXVMY3l6BJADaCvITlUQ3ax94ZvBoE9m8nb6lwQgnM91cCYGqiK5BbPvtm5Zoo/FsswT03IzlAlRunfqA1gtyepXpvQqpN4rVg++2vrLcEWH0Z3usjeP+6ILfcXidx5vQbmEjlUBJ7HUYJhc/PWze1sa98rgwHrNI+RoNuoCbaQ1eBvHHfxnYJ1U8qhOaq75zVg1MXV/eaUbF85YuXfXYiZu4ivvydGWvFeNB9GBmBWHAoCsQc5CasWZQ1G7UHkhqojSBXs2yP71L5MNWrM5tuBKZ3oHQF8qYzdXuw2oAYcWf+CuQBroUgH3lgXRwgyJDIJnDytik270MBeYDv2Wy3Cdq6z8282DxvdsMUfdkc5I22KEHdbIVRKWDlxnm8IVwyVvjkBMaEG8a351N7tuLs9yROnMf8N5uOay3s/gyFJswkMgViD3Lz6QJOCrfFf4VbxZ31NA4eOVAvL9pRI3Kn34pcke+dqJSmm4r2AAyEZzNgN/tewtaZramwuJBBbq1Cmqwswh7soeTXYrPS6VOllXPDkmAUny3gBrsrbK1n6n3STh6tQa5mz81dGeGAvPbzghX/fvTcAtafuS4xe0PdtW+v1uLg1OJlO+4+8c48CipyxmmbR599fhcZgVhwKArEH+SmvSQWm4NeP7Ez6J2d/m5mp60HdVcgV+6NAB+2aSr/qQcuXYJczRQD/eBt3DpeGMTnvXRxBLiDCjcSwSGnXji1mNG3Brm0j4awRxuC9rWelZO3TOt9GCCXvvCAOrQCueo7O9b+NSJ2Gtrk3gBCoQkziUyBHgC5idJXImpDgzeqoBHkKt1JJPNqU9M1VDUY7Nd9gLyyivPCReO4Z1TednSNFrRxWrKP3NdFI3QL8loOSbEED9gctd02jSGa9W1V9YzPq92fvtmn3Biu00pEdLwowF1JiTZIoDboITcsG753222Xm/Bsesvf9gpIvhmssatlGCCXeTSElxpY/8jnWqnVPNFaqg32nkjiU7XXo75//dfICMSCQ1GgJ0BuiodYpVaw6QnjCgK5aZawIkL+RFzwVwW5EVbB9sNlzFxb9Rw02QfIxcpARDYkzmPlmb3BVlHRMTLsUTt+CYuPS9aBn9LjZVy1ws/OY9VZNZhQkRlB4XdBPnIBEvvpeBqO/msRhZLc3Pvqqh2ydsHbrtcf0C64DjAvBe3xeeREeyoyVDPh00qG4NVtFotZ5dMFq+1W+GbF1mP938L10O4Jgq59JL/ZRsUwUHm2jvlxO0x0XsSCN521hgFyddM/g+R3tp2I8hfOHUUiIeqgbm41bH56xtroXBb2tCdCVEvI3RATGl84a9P6dtd/odCEmUSmQG+APMBYg0FuwtwLOHAhQtNSnnjc/fjIJVCt53vIzdO6Qym7BSx8YD8zRB0UEX5QJ55dtaHbGbm8zsgv4Lw8FGLnfxQTdW3qbuA2B9Yh5VNadTbyrPaIw1NPfSBVIBchpb5DQsbPi/V6HB/D/A+uz7lp+wLsw4oMqTswFqRBGCAX9lnAvPfA2vExzNzZhuE/FyHOIXjDK4XNiQnKt82icoLq3Pl3kRGIBYeiQPxAroD3uq/yKLx1lP518/Je7+Trg45KIw4PiZC4A9iQEnCyj/C7h5eaAkvVJ+avTnua1VPo6VmJ+dvb9vpm+cqDRFH9Dx06rrdjb0aAq6VzUPt1838OhSbMJDIF+hfkzQYwv2/hPggPDH5Q8HO8tY2MQCw4FAUIcoKdYKcNhAITZhKdAgQ5BzFBThuIjkAsORQFCHIOYoKcNhAKTJhJdAoQ5BzEBDltIDoCseRQFCDIOYgJctpAKDBhJtEpQJBzEBPktIHoCMSSQ1GAIOcgJshpA6HAhJlEpwBBzkFMkNMGoiMQSw5FAYKcg5ggpw2EAhNmEp0CBDkHMUFOG4iOQCw5FAUIcg5igpw2EApMmEl0ChDkHMQEOW0gOgKx5FAUIMg5iAly2kAoMGEm0SlAkHMQE+S0gegIxJJDUYAg5yAmyGkDocCEmUSnAEHOQUyQ0waiIxBLDkWBfYE8lJKZCRWgAlSACoSiAEEeiozMhApQASoQnQIEeXTas2QqQAWoQCgKEOShyMhMqAAVoALRKUCQR6c9S6YCVIAKhKIAQR6KjMyEClABKhCdAgR5dNqzZCpABahAKAr8fwrGzmWuas54AAAAAElFTkSuQmCC)\n",
        "\n",
        "\n",
        "Escribir un programa que lea la puntuación del usuario e indique su nivel de rendimiento, así como la cantidad de dinero que recibirá el usuario.\n",
        "\n",
        "\n"
      ],
      "metadata": {
        "id": "p4BbBy9R4oXr"
      }
    },
    {
      "cell_type": "code",
      "source": [
        "bonificacion = 2400\n",
        "inaceptable = 0.0\n",
        "aceptable = 0.4\n",
        "meritorio = 0.6\n",
        "\n",
        "puntos = float(input('Ingresa la cantidad de puntos => '))\n",
        "\n",
        "if puntos == inaceptable:\n",
        "    tramo = 'inaceptable'\n",
        "elif puntos == aceptable:\n",
        "    tramo = 'Aceptable'\n",
        "elif puntos >= meritorio:\n",
        "    tramo = 'Meritorio'\n",
        "else:\n",
        "    tramo = -1\n",
        "\n",
        "print(f'Estas en el tramo {tramo} y tu bonificacion es de {puntos*bonificacion}')\n",
        "\n"
      ],
      "metadata": {
        "colab": {
          "base_uri": "https://localhost:8080/"
        },
        "id": "Yiw-Qdcw4oeq",
        "outputId": "92ebf173-cc0e-43ac-93c2-2f59b94735e4"
      },
      "execution_count": null,
      "outputs": [
        {
          "output_type": "stream",
          "name": "stdout",
          "text": [
            "Ingresa la cantidad de puntos => 0.9\n",
            "Estas en el tramo Meritorio y tu bonificacion es de 2160.0\n"
          ]
        }
      ]
    },
    {
      "cell_type": "markdown",
      "source": [
        "Ejercicio 9\n",
        "Escribir un programa para una empresa que tiene salas de juegos para todas las edades y quiere calcular de forma automática el precio que debe cobrar a sus clientes por entrar. El programa debe preguntar al usuario la edad del cliente y mostrar el precio de la entrada. Si el cliente es menor de 4 años puede entrar gratis, si tiene entre 4 y 18 años debe pagar 5€ y si es mayor de 18 años, 10€."
      ],
      "metadata": {
        "id": "6pXlUKTYUYbk"
      }
    },
    {
      "cell_type": "code",
      "source": [
        "edad =int( input('Ingresa la edad =>'))\n",
        "\n",
        "if edad <= 4:\n",
        "    entrada= 'gratis'\n",
        "elif edad >4 and edad <18:\n",
        "    entrada ='5 euros'\n",
        "else:\n",
        "    entrada= '10 euros'\n",
        "\n",
        "print(f'el precio de la entrada es {entrada}')"
      ],
      "metadata": {
        "id": "2X7JEq0wUYjv",
        "colab": {
          "base_uri": "https://localhost:8080/"
        },
        "outputId": "9d529962-c586-43aa-9a61-87e311a85990"
      },
      "execution_count": null,
      "outputs": [
        {
          "output_type": "stream",
          "name": "stdout",
          "text": [
            "Ingresa la edad =>4\n",
            "el precio de la entrada es gratis\n"
          ]
        }
      ]
    },
    {
      "cell_type": "markdown",
      "source": [
        "Ejercicio 10\n",
        "La pizzería Bella Napoli ofrece pizzas vegetarianas y no vegetarianas a sus clientes. Los ingredientes para cada tipo de pizza aparecen a continuación.\n",
        "\n",
        "*   Ingredientes vegetarianos: Pimiento y tofu.\n",
        "*   Ingredientes no vegetarianos: Peperoni, Jamón y Salmón.\n",
        "\n",
        "Escribir un programa que pregunte al usuario si quiere una pizza vegetariana o no, y en función de su respuesta le muestre un menú con los ingredientes disponibles para que elija. Solo se puede eligir un ingrediente además de la mozzarella y el tomate que están en todas la pizzas. Al final se debe mostrar por pantalla si la pizza elegida es vegetariana o no y todos los ingredientes que lleva."
      ],
      "metadata": {
        "id": "SrAh0X-v_gvX"
      }
    },
    {
      "cell_type": "code",
      "source": [
        "print('Bienvenidos a la Pizzeria Napoli que tipo de pizza deseas: \\n \\t1-Ingredientes vegetarianos: Pimiento y tofu\\n\\t2-Ingredientes no vegetarianos: Peperoni, Jamón y Salmón.')\n",
        "tipo_de_pizza= int(input(\"Elige entre las dos pizzas que deseas =>\"))\n",
        "\n",
        "if tipo_de_pizza ==1:\n",
        "    print('Elige entre estos ingredientes vegetarianos: \\n\\t1-Pimiento\\n\\t2-tofu')\n",
        "    ing_vegano=int(input(\"Ingresa la opcion de tu gusto => \"))\n",
        "    if ing_vegano ==1:\n",
        "        ingrediente = 'Pimiento'\n",
        "        tipo ='Vegetariana'\n",
        "    else:\n",
        "        ingrediente = 'tofu'\n",
        "        tipo ='Vegetariana'\n",
        "if tipo_de_pizza== 2:\n",
        "    print('Elige entre estos ingredientes no vegetarianos: \\n\\t1-Peperoni\\n\\t2-Jamon\\n\\t3-Salmon')\n",
        "    ing_no_vegetariano=int(input(\"Ingresa la opcion de tu gusto => \"))\n",
        "    if ing_no_vegetariano==1:\n",
        "        ingrediente = 'Peperoni'\n",
        "        tipo ='No Vegetariana'\n",
        "    elif ing_no_vegetariano == 2:\n",
        "        ingrediente = 'Jamon'\n",
        "        tipo ='No Vegetariana'\n",
        "    else:\n",
        "        ingrediente = 'salmon'\n",
        "        tipo ='No Vegetariana'\n",
        "print(f'Elegiste la pizza {tipo} con el ingrediente de {ingrediente}')"
      ],
      "metadata": {
        "id": "zHjTfnlv_g1M",
        "colab": {
          "base_uri": "https://localhost:8080/"
        },
        "outputId": "331cd26b-9b52-4fc7-b521-43a2097d91b0"
      },
      "execution_count": 1,
      "outputs": [
        {
          "output_type": "stream",
          "name": "stdout",
          "text": [
            "Bienvenidos a la Pizzeria Napoli que tipo de pizza deseas: \n",
            " \t1-Ingredientes vegetarianos: Pimiento y tofu\n",
            "\t2-Ingredientes no vegetarianos: Peperoni, Jamón y Salmón.\n",
            "Elige entre las dos pizzas que deseas =>1\n",
            "Elige entre estos ingredientes vegetarianos: \n",
            "\t1-Pimiento\n",
            "\t2-tofu\n",
            "Ingresa la opcion de tu gusto => 1\n",
            "Elegiste la pizza Vegetariana con el ingrediente de Pimiento\n"
          ]
        }
      ]
    }
  ]
}