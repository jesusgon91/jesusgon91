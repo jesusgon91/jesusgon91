{
  "nbformat": 4,
  "nbformat_minor": 0,
  "metadata": {
    "colab": {
      "provenance": [],
      "authorship_tag": "ABX9TyMCN8FGsPVkatJlh8VW6IoS",
      "include_colab_link": true
    },
    "kernelspec": {
      "name": "python3",
      "display_name": "Python 3"
    },
    "language_info": {
      "name": "python"
    }
  },
  "cells": [
    {
      "cell_type": "markdown",
      "metadata": {
        "id": "view-in-github",
        "colab_type": "text"
      },
      "source": [
        "<a href=\"https://colab.research.google.com/github/jesusgon91/jesusgon91/blob/main/diccionario.ipynb\" target=\"_parent\"><img src=\"https://colab.research.google.com/assets/colab-badge.svg\" alt=\"Open In Colab\"/></a>"
      ]
    },
    {
      "cell_type": "markdown",
      "source": [
        "Ejercicio 1\n",
        "Escribir un programa que guarde en una variable el diccionario {'Euro':'€', 'Dollar':'$', 'Yen':'¥'}, pregunte al usuario por una divisa y muestre su símbolo o un mensaje de aviso si la divisa no está en el diccionario."
      ],
      "metadata": {
        "id": "qn7lNgrnVGPO"
      }
    },
    {
      "cell_type": "code",
      "execution_count": null,
      "metadata": {
        "colab": {
          "base_uri": "https://localhost:8080/"
        },
        "id": "XDtVgUtwVDbD",
        "outputId": "e83555ba-3a29-4bd4-dec0-a26c995bcd9a"
      },
      "outputs": [
        {
          "output_type": "stream",
          "name": "stdout",
          "text": [
            "Introduce una divisa: yen\n",
            "¥\n"
          ]
        }
      ],
      "source": [
        "monedas = {'Euro':'€', 'Dollar':'$', 'Yen':'¥'}\n",
        "moneda = input(\"Introduce una divisa: \").title()\n",
        "if moneda in monedas:\n",
        "    print(monedas[moneda])\n",
        "else:\n",
        "    print(\"La divisa no está.\")"
      ]
    },
    {
      "cell_type": "markdown",
      "source": [
        "Ejercicio 2\n",
        "Escribir un programa que pregunte al usuario su nombre, edad, dirección y teléfono y lo guarde en un diccionario. Después debe mostrar por pantalla el mensaje <nombre> tiene <edad> años, vive en <dirección> y su número de teléfono es <teléfono>."
      ],
      "metadata": {
        "id": "TJcexl6lVkpe"
      }
    },
    {
      "cell_type": "code",
      "source": [
        "nombre = input('Dime tu nombre => ')\n",
        "edad = input(\"Dime tu edad => \")\n",
        "direccion = input('Dime tu direccion => ')\n",
        "telefono = input('Dime tu telefono => ')\n",
        "\n",
        "diccionario = {\n",
        "    'nombre': nombre,\n",
        "    'edad': edad,\n",
        "    'direccion':direccion,\n",
        "    'telefono':telefono\n",
        "}\n",
        "\n",
        "print(f'{diccionario[\"nombre\"]} tiene {diccionario[\"edad\"]} años, su direccion es {diccionario[\"direccion\"]} y su telefono es {diccionario[\"telefono\"]}')"
      ],
      "metadata": {
        "colab": {
          "base_uri": "https://localhost:8080/"
        },
        "id": "2fJZiWAWVkzF",
        "outputId": "00cae572-69ff-4a64-fbcb-261c94b2bd93"
      },
      "execution_count": null,
      "outputs": [
        {
          "output_type": "stream",
          "name": "stdout",
          "text": [
            "Dime tu nombre => Jesus\n",
            "Dime tu edad => 32\n",
            "Dime tu direccion => x\n",
            "Dime tu telefono => 64841131\n",
            "Jesus tiene 32 años, su direccion es x y su telefono es 64841131\n"
          ]
        }
      ]
    },
    {
      "cell_type": "markdown",
      "source": [
        "Ejercicio 3\n",
        "Escribir un programa que guarde en un diccionario los precios de las frutas de la tabla, pregunte al usuario por una fruta, un número de kilos y muestre por pantalla el precio de ese número de kilos de fruta. Si la fruta no está en el diccionario debe mostrar un mensaje informando de ello.\n",
        "\n",
        "![image.png](data:image/png;base64,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)"
      ],
      "metadata": {
        "id": "GwtUo4_9Y4YK"
      }
    },
    {
      "cell_type": "code",
      "source": [
        "frutas = {\n",
        "    'platano' : 1.35,\n",
        "    'manzana': 0.80,\n",
        "    'pera':0.85,\n",
        "    'naranja':0.70,\n",
        "}\n",
        "\n",
        "fruta= input('Cual es la fruta que deseas => ')\n",
        "kg= float(input(f'Cuantos Kg de {fruta} deseas => '))\n",
        "\n",
        "if fruta in frutas :\n",
        "    print(f'Elegiste {fruta}, el peso de tu compra es de {kg}kg debes pagar: {round(kg*frutas[fruta],2)} euros')\n",
        "else:\n",
        "    print(f'Lo siento, {fruta} no se encuentra disponible')"
      ],
      "metadata": {
        "colab": {
          "base_uri": "https://localhost:8080/"
        },
        "id": "fDmH_1IZY4hY",
        "outputId": "e05ab769-0ef3-40c1-ac2a-751b4a965f9f"
      },
      "execution_count": null,
      "outputs": [
        {
          "output_type": "stream",
          "name": "stdout",
          "text": [
            "Cual es la fruta que deseas => naranja\n",
            "Cuantos Kg de naranja deseas => 5\n",
            "Elegiste naranja, el peso de tu compra es de 5.0kg debes pagar: 3.5 euros\n"
          ]
        }
      ]
    },
    {
      "cell_type": "markdown",
      "source": [
        "Ejercicio 4\n",
        "Escribir un programa que pregunte una fecha en formato dd/mm/aaaa y muestre por pantalla la misma fecha en formato dd de <mes> de aaaa donde <mes> es el nombre del mes."
      ],
      "metadata": {
        "id": "_Q4qY9Q9fo2H"
      }
    },
    {
      "cell_type": "code",
      "source": [
        "meses = {\n",
        "    1:'enero',\n",
        "    2:'febrero',\n",
        "    3:'marzo',\n",
        "    4:'abril',\n",
        "    5:'mayo',\n",
        "    6:'junio',\n",
        "    7:'julio',\n",
        "    8:'agosto',\n",
        "    9:'septiembre',\n",
        "    10:'octubre',\n",
        "    11:'noviembre',\n",
        "    12:'diciembre'\n",
        "    }\n",
        "\n",
        "fecha = input('Introduce una fecha en formato dd/mm/aaaa: ')\n",
        "fecha = fecha.split('/')\n",
        "\n",
        "print(f'{fecha[0]} de {meses[int(fecha[1])]} de {fecha[2]} ')"
      ],
      "metadata": {
        "colab": {
          "base_uri": "https://localhost:8080/"
        },
        "id": "Lb-WHlTifpDX",
        "outputId": "db1f3c2d-62b4-4229-bc6a-bacb27171dd5"
      },
      "execution_count": null,
      "outputs": [
        {
          "output_type": "stream",
          "name": "stdout",
          "text": [
            "Introduce una fecha en formato dd/mm/aaaa: 12/12/1980\n",
            "12 de diciembre de 1980 \n"
          ]
        }
      ]
    },
    {
      "cell_type": "markdown",
      "source": [
        "Ejercicio 5\n",
        "Escribir un programa que almacene el diccionario con los créditos de las asignaturas de un curso {'Matemáticas': 6, 'Física': 4, 'Química': 5} y después muestre por pantalla los créditos de cada asignatura en el formato <asignatura> tiene <créditos> créditos, donde <asignatura> es cada una de las asignaturas del curso, y <créditos> son sus créditos. Al final debe mostrar también el número total de créditos del curso."
      ],
      "metadata": {
        "id": "wsjPMf4GhezO"
      }
    },
    {
      "cell_type": "code",
      "source": [
        "curso ={\n",
        "    'Matemáticas': 6,\n",
        "    'Física': 4,\n",
        "    'Química': 5\n",
        "    }\n",
        "total_as = 0\n",
        "\n",
        "for asignatura, creditos in curso.items():\n",
        "    print(f\"{asignatura} tiene {creditos} creditos\")\n",
        "    total_as +=creditos\n",
        "print(f\"el numero total de creditos es {total_as}\")"
      ],
      "metadata": {
        "colab": {
          "base_uri": "https://localhost:8080/"
        },
        "id": "gRipd0Mbhe_m",
        "outputId": "5ce938ca-01f8-4adb-f6d7-bc2ae47b2dc7"
      },
      "execution_count": null,
      "outputs": [
        {
          "output_type": "stream",
          "name": "stdout",
          "text": [
            "Matemáticas tiene 6 creditos\n",
            "Física tiene 4 creditos\n",
            "Química tiene 5 creditos\n",
            "el numero total de creditos es 15\n"
          ]
        }
      ]
    },
    {
      "cell_type": "markdown",
      "source": [
        "Ejercicio 6\n",
        "Escribir un programa que cree un diccionario vacío y lo vaya llenado con información sobre una persona (por ejemplo nombre, edad, sexo, teléfono, correo electrónico, etc.) que se le pida al usuario. Cada vez que se añada un nuevo dato debe imprimirse el contenido del diccionario.\n",
        "\n",
        "\n"
      ],
      "metadata": {
        "id": "t-PtLeuxiz6T"
      }
    },
    {
      "cell_type": "code",
      "source": [
        "persona = {}\n",
        "continuar = True\n",
        "while continuar:\n",
        "    clave = input('¿Qué dato quieres introducir? ')\n",
        "    valor = input(clave + ': ')\n",
        "    persona[clave] = valor\n",
        "    print(persona)\n",
        "    continuar = input('¿Quieres añadir más información (Si/No)? ') == \"Si\""
      ],
      "metadata": {
        "colab": {
          "base_uri": "https://localhost:8080/"
        },
        "id": "kGXB-SWCi0CE",
        "outputId": "308f85dc-434f-4388-bff0-7bdb469b70c0"
      },
      "execution_count": null,
      "outputs": [
        {
          "name": "stdout",
          "output_type": "stream",
          "text": [
            "¿Qué dato quieres introducir? nombre\n",
            "nombre: jesus\n",
            "{'nombre': 'jesus'}\n",
            "¿Quieres añadir más información (Si/No)? Si\n",
            "¿Qué dato quieres introducir? edad\n",
            "edad: 35\n",
            "{'nombre': 'jesus', 'edad': '35'}\n",
            "¿Quieres añadir más información (Si/No)? no\n"
          ]
        }
      ]
    }
  ]
}