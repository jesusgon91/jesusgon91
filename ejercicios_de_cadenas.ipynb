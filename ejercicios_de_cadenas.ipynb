{
  "nbformat": 4,
  "nbformat_minor": 0,
  "metadata": {
    "colab": {
      "provenance": [],
      "authorship_tag": "ABX9TyPSBJofWAjOpEMGns3B6wQp",
      "include_colab_link": true
    },
    "kernelspec": {
      "name": "python3",
      "display_name": "Python 3"
    },
    "language_info": {
      "name": "python"
    }
  },
  "cells": [
    {
      "cell_type": "markdown",
      "metadata": {
        "id": "view-in-github",
        "colab_type": "text"
      },
      "source": [
        "<a href=\"https://colab.research.google.com/github/jesusgon91/jesusgon91/blob/main/ejercicios_de_cadenas.ipynb\" target=\"_parent\"><img src=\"https://colab.research.google.com/assets/colab-badge.svg\" alt=\"Open In Colab\"/></a>"
      ]
    },
    {
      "cell_type": "markdown",
      "source": [
        "Ejercicio 1\n",
        "Escribir un programa que pregunte el nombre del usuario en la consola y un número entero e imprima por pantalla en líneas distintas el nombre del usuario tantas veces como el número introducido."
      ],
      "metadata": {
        "id": "keoKI0VkAE6X"
      }
    },
    {
      "cell_type": "code",
      "execution_count": null,
      "metadata": {
        "colab": {
          "base_uri": "https://localhost:8080/"
        },
        "id": "s8nZ9_uBABNt",
        "outputId": "a1428188-5427-4ee2-cff8-03da9ad4f4fe"
      },
      "outputs": [
        {
          "output_type": "stream",
          "name": "stdout",
          "text": [
            "Escribe un nombre => jesus\n",
            "ingresa un numero entero => 3\n",
            "jesus\n",
            "jesus\n",
            "jesus\n",
            "\n"
          ]
        }
      ],
      "source": [
        "nombre = input('Escribe un nombre => ')\n",
        "numero = int(input('ingresa un numero entero => '))\n",
        "\n",
        "print((nombre + '\\n')* numero)"
      ]
    },
    {
      "cell_type": "markdown",
      "source": [
        "Ejercicio 2\n",
        "Escribir un programa que pregunte el nombre completo del usuario en la consola y después muestre por pantalla el nombre completo del usuario tres veces, una con todas las letras minúsculas, otra con todas las letras mayúsculas y otra solo con la primera letra del nombre y de los apellidos en mayúscula. El usuario puede introducir su nombre combinando mayúsculas y minúsculas como quiera."
      ],
      "metadata": {
        "id": "yUam5xSfBYGP"
      }
    },
    {
      "cell_type": "code",
      "source": [
        "nombre = input('Escribe tu nombre completo => ')\n",
        "\n",
        "x = nombre.upper()\n",
        "y = nombre.title()\n",
        "z = nombre.lower()\n",
        "\n",
        "print(x)\n",
        "print(y)\n",
        "print(z)"
      ],
      "metadata": {
        "colab": {
          "base_uri": "https://localhost:8080/"
        },
        "id": "dVcWG3K6BYaL",
        "outputId": "f1b80c34-637e-4d44-ac56-050af11d9786"
      },
      "execution_count": null,
      "outputs": [
        {
          "output_type": "stream",
          "name": "stdout",
          "text": [
            "Escribe tu nombre completo => JeSUS HumBerTo GonZaleZ\n",
            "JESUS HUMBERTO GONZALEZ\n",
            "Jesus Humberto Gonzalez\n",
            "jesus humberto gonzalez\n"
          ]
        }
      ]
    },
    {
      "cell_type": "markdown",
      "source": [
        "Ejercicio 3\n",
        "Escribir un programa que pregunte el nombre del usuario en la consola y después de que el usuario lo introduzca muestre por pantalla <NOMBRE> tiene <n> letras, donde <NOMBRE> es el nombre de usuario en mayúsculas y <n> es el número de letras que tienen el nombre."
      ],
      "metadata": {
        "id": "M0oJshv1DBlI"
      }
    },
    {
      "cell_type": "code",
      "source": [
        "nombre = input('Escribe tu nombre => ')\n",
        "\n",
        "print(nombre.upper() + ' ' + 'tiene' + ' '  + str(len(nombre)) + ' ' + 'letras')"
      ],
      "metadata": {
        "id": "UG_9AVGRDB4b",
        "colab": {
          "base_uri": "https://localhost:8080/"
        },
        "outputId": "f6d1766a-2114-4f1b-88b1-5d9c2f6c9f0d"
      },
      "execution_count": 1,
      "outputs": [
        {
          "output_type": "stream",
          "name": "stdout",
          "text": [
            "Escribe tu nombre => jesus\n",
            "JESUS tiene 5 letras\n"
          ]
        }
      ]
    },
    {
      "cell_type": "markdown",
      "source": [
        "## Ejercicio 4\n",
        "\n",
        "Los teléfonos de una empresa tienen el siguiente formato `prefijo-número-extension` donde el prefijo es el código del país `+34`, y la extensión tiene dos dígitos (por ejemplo `+34-913724710-56`). Escribir un programa que pregunte por un número de teléfono con este formato en la consola y muestre por pantalla el número de teléfono sin el prefijo y la extensión."
      ],
      "metadata": {
        "id": "rFyjJ6TKoL52"
      }
    },
    {
      "cell_type": "code",
      "source": [
        "telf = input('Ingresa el numero de telefono (prefijo + numero + extension) => ')\n",
        "print('El numero de telf es', telf[4:-3])"
      ],
      "metadata": {
        "colab": {
          "base_uri": "https://localhost:8080/"
        },
        "id": "zXZrbGgaoLmF",
        "outputId": "f9c96b27-942c-4e81-bc54-22900bdb30a0"
      },
      "execution_count": 2,
      "outputs": [
        {
          "output_type": "stream",
          "name": "stdout",
          "text": [
            "Ingresa el numero de telefono (prefijo + numero + extension) => +34-6895532-78\n",
            "El numero de telf es 6895532\n"
          ]
        }
      ]
    }
  ]
}