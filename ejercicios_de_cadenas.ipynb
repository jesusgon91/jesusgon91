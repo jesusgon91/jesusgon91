{
  "nbformat": 4,
  "nbformat_minor": 0,
  "metadata": {
    "colab": {
      "provenance": [],
      "authorship_tag": "ABX9TyP4B8GR/LhG5MgaUwuwuO5O",
      "include_colab_link": true
    },
    "kernelspec": {
      "name": "python3",
      "display_name": "Python 3"
    },
    "language_info": {
      "name": "python"
    }
  },
  "cells": [
    {
      "cell_type": "markdown",
      "metadata": {
        "id": "view-in-github",
        "colab_type": "text"
      },
      "source": [
        "<a href=\"https://colab.research.google.com/github/jesusgon91/jesusgon91/blob/main/ejercicios_de_cadenas.ipynb\" target=\"_parent\"><img src=\"https://colab.research.google.com/assets/colab-badge.svg\" alt=\"Open In Colab\"/></a>"
      ]
    },
    {
      "cell_type": "markdown",
      "source": [
        "Ejercicio 1\n",
        "Escribir un programa que pregunte el nombre del usuario en la consola y un número entero e imprima por pantalla en líneas distintas el nombre del usuario tantas veces como el número introducido."
      ],
      "metadata": {
        "id": "keoKI0VkAE6X"
      }
    },
    {
      "cell_type": "code",
      "execution_count": null,
      "metadata": {
        "colab": {
          "base_uri": "https://localhost:8080/"
        },
        "id": "s8nZ9_uBABNt",
        "outputId": "a1428188-5427-4ee2-cff8-03da9ad4f4fe"
      },
      "outputs": [
        {
          "output_type": "stream",
          "name": "stdout",
          "text": [
            "Escribe un nombre => jesus\n",
            "ingresa un numero entero => 3\n",
            "jesus\n",
            "jesus\n",
            "jesus\n",
            "\n"
          ]
        }
      ],
      "source": [
        "nombre = input('Escribe un nombre => ')\n",
        "numero = int(input('ingresa un numero entero => '))\n",
        "\n",
        "print((nombre + '\\n')* numero)"
      ]
    },
    {
      "cell_type": "markdown",
      "source": [
        "Ejercicio 2\n",
        "Escribir un programa que pregunte el nombre completo del usuario en la consola y después muestre por pantalla el nombre completo del usuario tres veces, una con todas las letras minúsculas, otra con todas las letras mayúsculas y otra solo con la primera letra del nombre y de los apellidos en mayúscula. El usuario puede introducir su nombre combinando mayúsculas y minúsculas como quiera."
      ],
      "metadata": {
        "id": "yUam5xSfBYGP"
      }
    },
    {
      "cell_type": "code",
      "source": [
        "nombre = input('Escribe tu nombre completo => ')\n",
        "\n",
        "x = nombre.upper()\n",
        "y = nombre.title()\n",
        "z = nombre.lower()\n",
        "\n",
        "print(x)\n",
        "print(y)\n",
        "print(z)"
      ],
      "metadata": {
        "colab": {
          "base_uri": "https://localhost:8080/"
        },
        "id": "dVcWG3K6BYaL",
        "outputId": "f1b80c34-637e-4d44-ac56-050af11d9786"
      },
      "execution_count": null,
      "outputs": [
        {
          "output_type": "stream",
          "name": "stdout",
          "text": [
            "Escribe tu nombre completo => JeSUS HumBerTo GonZaleZ\n",
            "JESUS HUMBERTO GONZALEZ\n",
            "Jesus Humberto Gonzalez\n",
            "jesus humberto gonzalez\n"
          ]
        }
      ]
    },
    {
      "cell_type": "markdown",
      "source": [
        "Ejercicio 3\n",
        "Escribir un programa que pregunte el nombre del usuario en la consola y después de que el usuario lo introduzca muestre por pantalla <NOMBRE> tiene <n> letras, donde <NOMBRE> es el nombre de usuario en mayúsculas y <n> es el número de letras que tienen el nombre."
      ],
      "metadata": {
        "id": "M0oJshv1DBlI"
      }
    },
    {
      "cell_type": "code",
      "source": [
        "nombre = input('Escribe tu nombre => ')\n",
        "\n",
        "print(nombre.upper() + ' ' + 'tiene' + ' '  + str(len(nombre)) + ' ' + 'letras')"
      ],
      "metadata": {
        "id": "UG_9AVGRDB4b",
        "colab": {
          "base_uri": "https://localhost:8080/"
        },
        "outputId": "f6d1766a-2114-4f1b-88b1-5d9c2f6c9f0d"
      },
      "execution_count": null,
      "outputs": [
        {
          "output_type": "stream",
          "name": "stdout",
          "text": [
            "Escribe tu nombre => jesus\n",
            "JESUS tiene 5 letras\n"
          ]
        }
      ]
    },
    {
      "cell_type": "markdown",
      "source": [
        "## Ejercicio 4\n",
        "\n",
        "Los teléfonos de una empresa tienen el siguiente formato `prefijo-número-extension` donde el prefijo es el código del país `+34`, y la extensión tiene dos dígitos (por ejemplo `+34-913724710-56`). Escribir un programa que pregunte por un número de teléfono con este formato en la consola y muestre por pantalla el número de teléfono sin el prefijo y la extensión."
      ],
      "metadata": {
        "id": "rFyjJ6TKoL52"
      }
    },
    {
      "cell_type": "code",
      "source": [
        "telf = input('Ingresa el numero de telefono (prefijo + numero + extension) => ')\n",
        "print('El numero de telf es', telf[4:-3])"
      ],
      "metadata": {
        "colab": {
          "base_uri": "https://localhost:8080/"
        },
        "id": "zXZrbGgaoLmF",
        "outputId": "f9c96b27-942c-4e81-bc54-22900bdb30a0"
      },
      "execution_count": null,
      "outputs": [
        {
          "output_type": "stream",
          "name": "stdout",
          "text": [
            "Ingresa el numero de telefono (prefijo + numero + extension) => +34-6895532-78\n",
            "El numero de telf es 6895532\n"
          ]
        }
      ]
    },
    {
      "cell_type": "markdown",
      "source": [
        "Ejercicio 5\n",
        "Escribir un programa que pida al usuario que introduzca una frase en la consola y muestre por pantalla la frase invertida."
      ],
      "metadata": {
        "id": "Q6ThLC60JmLn"
      }
    },
    {
      "cell_type": "code",
      "source": [
        "i = input('Escribe una frase =>')\n",
        "print(i[::-1])"
      ],
      "metadata": {
        "colab": {
          "base_uri": "https://localhost:8080/"
        },
        "id": "Y_OiQS2eJn6P",
        "outputId": "0bef30e9-1fef-451c-f5ef-02892458c3ad"
      },
      "execution_count": null,
      "outputs": [
        {
          "output_type": "stream",
          "name": "stdout",
          "text": [
            "Escribe una frase =>hola\n",
            "aloh\n"
          ]
        }
      ]
    },
    {
      "cell_type": "markdown",
      "source": [
        "Ejercicio 6\n",
        "Escribir un programa que pida al usuario que introduzca una frase en la consola y una vocal, y después muestre por pantalla la misma frase pero con la vocal introducida en mayúscula."
      ],
      "metadata": {
        "id": "7l9nX0GwLdeG"
      }
    },
    {
      "cell_type": "code",
      "source": [
        "frase = input('Escribe una frase =>')\n",
        "vocal = input('Escribe una vocal =>')\n",
        "\n",
        "print(frase.replace(vocal,vocal.upper()))"
      ],
      "metadata": {
        "colab": {
          "base_uri": "https://localhost:8080/"
        },
        "id": "BODvnrcnLeMk",
        "outputId": "ad6bd9f4-2569-42ad-94de-c642173a74a4"
      },
      "execution_count": null,
      "outputs": [
        {
          "output_type": "stream",
          "name": "stdout",
          "text": [
            "Escribe una frase =>hola mundo de programador\n",
            "Escribe una vocal =>a\n",
            "holA mundo de progrAmAdor\n"
          ]
        }
      ]
    },
    {
      "cell_type": "markdown",
      "source": [
        "Ejercicio 7\n",
        "Escribir un programa que pregunte el correo electrónico del usuario en la consola y muestre por pantalla otro correo electrónico con el mismo nombre (la parte delante de la arroba @) pero con dominio ceu.es."
      ],
      "metadata": {
        "id": "vAn-AqYLN437"
      }
    },
    {
      "cell_type": "code",
      "source": [
        "correo = input('Escribe tu correo electronico => ')\n",
        "print(correo[:correo.find('@')]+\"@ceu.es\")"
      ],
      "metadata": {
        "colab": {
          "base_uri": "https://localhost:8080/"
        },
        "id": "m_xrMIGhN5AK",
        "outputId": "ffecc33e-96d3-4352-9544-20164f47827c"
      },
      "execution_count": null,
      "outputs": [
        {
          "output_type": "stream",
          "name": "stdout",
          "text": [
            "Escribe tu correo electronico => pepito91@gmail.com\n",
            "pepito91@ceu.es\n"
          ]
        }
      ]
    },
    {
      "cell_type": "code",
      "source": [
        "correo = input('Escribe tu correo electronico => ')\n",
        "print(correo[:correo.find('@')]+\"@ceu.es\")"
      ],
      "metadata": {
        "colab": {
          "base_uri": "https://localhost:8080/"
        },
        "id": "MrbyO4FFWyV2",
        "outputId": "467237b8-016a-4374-9756-402ebb266d57"
      },
      "execution_count": null,
      "outputs": [
        {
          "output_type": "stream",
          "name": "stdout",
          "text": [
            "Escribe tu correo electronico => pepito91@hotmail.com\n",
            "pepito91@ceu.es\n"
          ]
        }
      ]
    },
    {
      "cell_type": "markdown",
      "source": [
        "Ejercicio 8\n",
        "Escribir un programa que pregunte por consola el precio de un producto en euros con dos decimales y muestre por pantalla el número de euros y el número de céntimos del precio introducido."
      ],
      "metadata": {
        "id": "3e3w8-5kW22A"
      }
    },
    {
      "cell_type": "code",
      "source": [
        "price = input('Introduce el precio del producto con decimales => ')\n",
        "print(price[:price.find('.')], 'Euros y', price[price.find('.')+1:], 'centimos')"
      ],
      "metadata": {
        "colab": {
          "base_uri": "https://localhost:8080/"
        },
        "id": "pYk04IhPW2sl",
        "outputId": "49295e42-555b-4cda-b5b1-c3f053d422da"
      },
      "execution_count": null,
      "outputs": [
        {
          "output_type": "stream",
          "name": "stdout",
          "text": [
            "Introduce el precio del producto con decimales => 154.37\n",
            "154 Euros y 37 centimos\n"
          ]
        }
      ]
    },
    {
      "cell_type": "markdown",
      "source": [
        "Ejercicio 9\n",
        "Escribir un programa que pregunte al usuario la fecha de su nacimiento en formato dd/mm/aaaa y muestra por pantalla, el día, el mes y el año. Adaptar el programa anterior para que también funcione cuando el día o el mes se introduzcan con un solo carácter."
      ],
      "metadata": {
        "id": "Y-fUJBBlYkYC"
      }
    },
    {
      "cell_type": "code",
      "source": [
        "date = input('Introduce una fecha en este formato dd/mm/aaaa =>')  #utilizamos el metodo de posicion para buscar fecha Dia, Mes, y Año\n",
        "\n",
        "print('Dia',date[:2])\n",
        "print('Mes',date[3:5])\n",
        "print('Año',date[6:])"
      ],
      "metadata": {
        "id": "VHcFfRsSYkg6",
        "colab": {
          "base_uri": "https://localhost:8080/"
        },
        "outputId": "b80d227c-c7fd-4cf3-8bab-f365def29426"
      },
      "execution_count": 1,
      "outputs": [
        {
          "output_type": "stream",
          "name": "stdout",
          "text": [
            "Introduce una fecha en este formato dd/mm/aaaa =>18/10/1991\n",
            "Dia 18\n",
            "Mes 10\n",
            "Año 1991\n"
          ]
        }
      ]
    },
    {
      "cell_type": "markdown",
      "source": [
        "Solucion #2 utilizando el metodo find"
      ],
      "metadata": {
        "id": "YpwvCJZOaQ4h"
      }
    },
    {
      "cell_type": "code",
      "source": [
        "date = input('Introduce la fecha de tu nacimiento en formato día/mes/año => ')\n",
        "\n",
        "day = date[:date.find('/')]\n",
        "month_year = date[date.find('/')+1:]\n",
        "month = month_year[:month_year.find('/')]\n",
        "year = month_year[month_year.find('/')+1:]\n",
        "\n",
        "\n",
        "print('Dia',day)\n",
        "print('Mes',month)\n",
        "print('Año', year)"
      ],
      "metadata": {
        "colab": {
          "base_uri": "https://localhost:8080/"
        },
        "id": "bgTn0rEKaWcU",
        "outputId": "24799cbe-3138-44c5-8f48-a47168dad8a8"
      },
      "execution_count": 2,
      "outputs": [
        {
          "output_type": "stream",
          "name": "stdout",
          "text": [
            "Introduce la fecha de tu nacimiento en formato día/mes/año => 18/10/1991\n",
            "Dia 18\n",
            "Mes 10\n",
            "Año 1991\n"
          ]
        }
      ]
    },
    {
      "cell_type": "markdown",
      "source": [
        "Ejercicio 10\n",
        "Escribir un programa que pregunte por consola por los productos de una cesta de la compra, separados por comas, y muestre por pantalla cada uno de los productos en una línea distinta."
      ],
      "metadata": {
        "id": "s7kavSuoakSo"
      }
    },
    {
      "cell_type": "code",
      "source": [
        "compra = input('Ingresa la ceste de compra separados por \",\" => ')\n",
        "print(compra.replace(',','\\n'))"
      ],
      "metadata": {
        "colab": {
          "base_uri": "https://localhost:8080/"
        },
        "id": "c7yN6jPYak44",
        "outputId": "f4b963ac-3b16-444b-e24c-f3c17e810286"
      },
      "execution_count": 3,
      "outputs": [
        {
          "output_type": "stream",
          "name": "stdout",
          "text": [
            "Ingresa la ceste de compra separados por \",\" => azucar,peras,manzanas,limon\n",
            "azucar\n",
            "peras\n",
            "manzanas\n",
            "limon\n"
          ]
        }
      ]
    },
    {
      "cell_type": "markdown",
      "source": [
        "Ejercicio 11\n",
        "Escribir un programa que pregunte el nombre el un producto, su precio y un número de unidades y muestre por pantalla una cadena con el nombre del producto seguido de su precio unitario con 6 dígitos enteros y 2 decimales, el número de unidades con tres dígitos y el coste total con 8 dígitos enteros y 2 decimales."
      ],
      "metadata": {
        "id": "TGyzdlZYyDb5"
      }
    },
    {
      "cell_type": "code",
      "source": [
        "producto =input('Ingresa el nombre del producto => ')\n",
        "precio = float(input('Ingresa el precio del producto => '))\n",
        "unidades = float(input('Ingresa el numero de unidades => '))\n",
        "\n",
        "print('{producto}:{unidades} unidades x {precio} Euros = {total} Euros'.format(producto = producto, precio =precio, unidades= unidades, total = unidades*precio))"
      ],
      "metadata": {
        "colab": {
          "base_uri": "https://localhost:8080/"
        },
        "id": "MpBT1AzSyDRS",
        "outputId": "2e903714-f40e-44b6-cc04-0dfb3c52d725"
      },
      "execution_count": 11,
      "outputs": [
        {
          "output_type": "stream",
          "name": "stdout",
          "text": [
            "Ingresa el nombre del producto => Laptos Lenovos\n",
            "Ingresa el precio del producto => 3848.35\n",
            "Ingresa el numero de unidades => 150\n",
            "Laptos Lenovos:150.0 unidades x 3848.35 Euros = 577252.5 Euros\n"
          ]
        }
      ]
    }
  ]
}