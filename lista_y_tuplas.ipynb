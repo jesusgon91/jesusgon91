{
  "nbformat": 4,
  "nbformat_minor": 0,
  "metadata": {
    "colab": {
      "provenance": [],
      "authorship_tag": "ABX9TyOwMdPL/WX/0REzjYXaHkTj",
      "include_colab_link": true
    },
    "kernelspec": {
      "name": "python3",
      "display_name": "Python 3"
    },
    "language_info": {
      "name": "python"
    }
  },
  "cells": [
    {
      "cell_type": "markdown",
      "metadata": {
        "id": "view-in-github",
        "colab_type": "text"
      },
      "source": [
        "<a href=\"https://colab.research.google.com/github/jesusgon91/jesusgon91/blob/main/lista_y_tuplas.ipynb\" target=\"_parent\"><img src=\"https://colab.research.google.com/assets/colab-badge.svg\" alt=\"Open In Colab\"/></a>"
      ]
    },
    {
      "cell_type": "markdown",
      "source": [
        "Ejercicio 1\n",
        "Escribir un programa que almacene las asignaturas de un curso (por ejemplo Matemáticas, Física, Química, Historia y Lengua) en una lista y la muestre por pantalla."
      ],
      "metadata": {
        "id": "u56mbjuSO0uE"
      }
    },
    {
      "cell_type": "code",
      "execution_count": null,
      "metadata": {
        "colab": {
          "base_uri": "https://localhost:8080/"
        },
        "id": "Hfsy8uoTOxJZ",
        "outputId": "98dda566-24c2-45b5-e363-ba71d9932f10"
      },
      "outputs": [
        {
          "output_type": "stream",
          "name": "stdout",
          "text": [
            "<class 'list'>\n",
            "['Matemáticas', 'Química', 'Física', 'Historia', 'Lengua']\n"
          ]
        }
      ],
      "source": [
        "list = [\"Matemáticas\",\"Química\",\"Física\",\"Historia\",\"Lengua\"]\n",
        "\n",
        "print(type(list))\n",
        "print(list)"
      ]
    },
    {
      "cell_type": "markdown",
      "source": [
        "Ejercicio 2\n",
        "Escribir un programa que almacene las asignaturas de un curso (por ejemplo Matemáticas, Física, Química, Historia y Lengua) en una lista y la muestre por pantalla el mensaje Yo estudio <asignatura>, donde <asignatura> es cada una de las asignaturas de la lista."
      ],
      "metadata": {
        "id": "a-CxbajdPwUd"
      }
    },
    {
      "cell_type": "code",
      "source": [
        "materias = [\"Matemáticas\",\"Química\",\"Física\",\"Historia\",\"Lengua\"]\n",
        "\n",
        "for mat in materias:\n",
        "    print(f'yo estudio {mat}')"
      ],
      "metadata": {
        "id": "c7qWRm7HPxZc",
        "outputId": "95b5f856-f134-4f81-b90f-38bd337373d5",
        "colab": {
          "base_uri": "https://localhost:8080/"
        }
      },
      "execution_count": 1,
      "outputs": [
        {
          "output_type": "stream",
          "name": "stdout",
          "text": [
            "yo estudio Matemáticas\n",
            "yo estudio Química\n",
            "yo estudio Física\n",
            "yo estudio Historia\n",
            "yo estudio Lengua\n"
          ]
        }
      ]
    },
    {
      "cell_type": "markdown",
      "source": [
        "Ejercicio 4\n",
        "Escribir un programa que pregunte al usuario los números ganadores de la lotería primitiva, los almacene en una lista y los muestre por pantalla ordenados de menor a mayor."
      ],
      "metadata": {
        "id": "LBxJLdtsQTho"
      }
    },
    {
      "cell_type": "code",
      "source": [
        "winner_num = []\n",
        "\n",
        "for i in range(5):\n",
        "    winner_num.append((input('Dame el numero ganador => ')))\n",
        "winner_num.sort()\n",
        "print(f\"Los numeros ganadores son {winner_num}\")"
      ],
      "metadata": {
        "colab": {
          "base_uri": "https://localhost:8080/"
        },
        "id": "4qIQpTLTQTYe",
        "outputId": "6e4a0496-6aaf-465b-dbaa-6fb7c852216b"
      },
      "execution_count": null,
      "outputs": [
        {
          "output_type": "stream",
          "name": "stdout",
          "text": [
            "Dame el numero ganador => 60\n",
            "Dame el numero ganador => 25\n",
            "Dame el numero ganador => 35\n",
            "Dame el numero ganador => 84\n",
            "Dame el numero ganador => 23\n",
            "Los numeros ganadores son ['23', '25', '35', '60', '84']\n"
          ]
        }
      ]
    },
    {
      "cell_type": "markdown",
      "source": [
        "Ejercicio 5\n",
        "Escribir un programa que almacene en una lista los números del 1 al 10 y los muestre por pantalla en orden inverso separados por comas."
      ],
      "metadata": {
        "id": "Ix5ZJiVjTFmu"
      }
    },
    {
      "cell_type": "code",
      "source": [
        "lista = [1, 2, 3, 4, 5, 6, 7, 8, 9, 10]\n",
        "lista.sort(reverse= True)\n",
        "for i in lista:\n",
        "  print(i, end=',')\n"
      ],
      "metadata": {
        "colab": {
          "base_uri": "https://localhost:8080/"
        },
        "id": "elAs-XX4TFtR",
        "outputId": "45bd3824-cbe6-40a5-e06c-89cec683df7f"
      },
      "execution_count": null,
      "outputs": [
        {
          "output_type": "stream",
          "name": "stdout",
          "text": [
            "10,9,8,7,6,5,4,3,2,1,"
          ]
        }
      ]
    },
    {
      "cell_type": "markdown",
      "source": [
        "Ejercicio 6\n",
        "Escribir un programa que almacene las asignaturas de un curso (por ejemplo Matemáticas, Física, Química, Historia y Lengua) en una lista, pregunte al usuario la nota que ha sacado en cada asignatura y elimine de la lista las asignaturas aprobadas. Al final el programa debe mostrar por pantalla las asignaturas que el usuario tiene que repetir."
      ],
      "metadata": {
        "id": "i97YIKocUXRJ"
      }
    },
    {
      "cell_type": "code",
      "source": [
        "materias = [\"Matemáticas\",\"Química\",\"Física\",\"Historia\",\"Lengua\"]\n",
        "notas_pasadas=[]\n",
        "for i in materias:\n",
        "    notas=float(input('Dame tu Calificacion en ' +  i  + '=>'))\n",
        "    if notas >= 5:\n",
        "        notas_pasadas.append(i)\n",
        "for i in notas_pasadas:\n",
        "    materias.remove(i)\n",
        "print(f'Debes repetir {materias}')"
      ],
      "metadata": {
        "colab": {
          "base_uri": "https://localhost:8080/"
        },
        "id": "PKGfpPCOUXXu",
        "outputId": "81767ca5-fb3b-4063-bd4f-e040c20dbce5"
      },
      "execution_count": null,
      "outputs": [
        {
          "output_type": "stream",
          "name": "stdout",
          "text": [
            "Dame tu Calificacion en Matemáticas=>5\n",
            "Dame tu Calificacion en Química=>7\n",
            "Dame tu Calificacion en Física=>4\n",
            "Dame tu Calificacion en Historia=>2\n",
            "Dame tu Calificacion en Lengua=>5\n",
            "Debes repetir ['Física', 'Historia']\n"
          ]
        }
      ]
    },
    {
      "cell_type": "markdown",
      "source": [
        "Ejercicio 7\n",
        "Escribir un programa que almacene el abecedario en una lista, elimine de la lista las letras que ocupen posiciones múltiplos de 3, y muestre por pantalla la lista resultante."
      ],
      "metadata": {
        "id": "eQU9Nh7pXXKW"
      }
    },
    {
      "cell_type": "code",
      "source": [],
      "metadata": {
        "id": "k_Nbvc_HXXPl"
      },
      "execution_count": null,
      "outputs": []
    }
  ]
}