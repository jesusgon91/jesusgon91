{
  "nbformat": 4,
  "nbformat_minor": 0,
  "metadata": {
    "colab": {
      "provenance": [],
      "authorship_tag": "ABX9TyMR15zN88L65ZvOeiHj/Q2I",
      "include_colab_link": true
    },
    "kernelspec": {
      "name": "python3",
      "display_name": "Python 3"
    },
    "language_info": {
      "name": "python"
    }
  },
  "cells": [
    {
      "cell_type": "markdown",
      "metadata": {
        "id": "view-in-github",
        "colab_type": "text"
      },
      "source": [
        "<a href=\"https://colab.research.google.com/github/jesusgon91/jesusgon91/blob/main/lista_y_tuplas.ipynb\" target=\"_parent\"><img src=\"https://colab.research.google.com/assets/colab-badge.svg\" alt=\"Open In Colab\"/></a>"
      ]
    },
    {
      "cell_type": "markdown",
      "source": [
        "Ejercicio 1\n",
        "Escribir un programa que almacene las asignaturas de un curso (por ejemplo Matemáticas, Física, Química, Historia y Lengua) en una lista y la muestre por pantalla."
      ],
      "metadata": {
        "id": "u56mbjuSO0uE"
      }
    },
    {
      "cell_type": "code",
      "execution_count": null,
      "metadata": {
        "colab": {
          "base_uri": "https://localhost:8080/"
        },
        "id": "Hfsy8uoTOxJZ",
        "outputId": "98dda566-24c2-45b5-e363-ba71d9932f10"
      },
      "outputs": [
        {
          "output_type": "stream",
          "name": "stdout",
          "text": [
            "<class 'list'>\n",
            "['Matemáticas', 'Química', 'Física', 'Historia', 'Lengua']\n"
          ]
        }
      ],
      "source": [
        "list = [\"Matemáticas\",\"Química\",\"Física\",\"Historia\",\"Lengua\"]\n",
        "\n",
        "print(type(list))\n",
        "print(list)"
      ]
    },
    {
      "cell_type": "markdown",
      "source": [
        "Ejercicio 2\n",
        "Escribir un programa que almacene las asignaturas de un curso (por ejemplo Matemáticas, Física, Química, Historia y Lengua) en una lista y la muestre por pantalla el mensaje Yo estudio <asignatura>, donde <asignatura> es cada una de las asignaturas de la lista."
      ],
      "metadata": {
        "id": "a-CxbajdPwUd"
      }
    },
    {
      "cell_type": "code",
      "source": [
        "materias = [\"Matemáticas\",\"Química\",\"Física\",\"Historia\",\"Lengua\"]\n",
        "\n",
        "for mat in materias:\n",
        "    print(f'yo estudio {mat}')"
      ],
      "metadata": {
        "id": "c7qWRm7HPxZc",
        "colab": {
          "base_uri": "https://localhost:8080/"
        },
        "outputId": "95b5f856-f134-4f81-b90f-38bd337373d5"
      },
      "execution_count": null,
      "outputs": [
        {
          "output_type": "stream",
          "name": "stdout",
          "text": [
            "yo estudio Matemáticas\n",
            "yo estudio Química\n",
            "yo estudio Física\n",
            "yo estudio Historia\n",
            "yo estudio Lengua\n"
          ]
        }
      ]
    },
    {
      "cell_type": "markdown",
      "source": [
        "Ejercicio 4\n",
        "Escribir un programa que pregunte al usuario los números ganadores de la lotería primitiva, los almacene en una lista y los muestre por pantalla ordenados de menor a mayor."
      ],
      "metadata": {
        "id": "LBxJLdtsQTho"
      }
    },
    {
      "cell_type": "code",
      "source": [
        "winner_num = []\n",
        "\n",
        "for i in range(5):\n",
        "    winner_num.append((input('Dame el numero ganador => ')))\n",
        "winner_num.sort()\n",
        "print(f\"Los numeros ganadores son {winner_num}\")"
      ],
      "metadata": {
        "colab": {
          "base_uri": "https://localhost:8080/"
        },
        "id": "4qIQpTLTQTYe",
        "outputId": "6e4a0496-6aaf-465b-dbaa-6fb7c852216b"
      },
      "execution_count": null,
      "outputs": [
        {
          "output_type": "stream",
          "name": "stdout",
          "text": [
            "Dame el numero ganador => 60\n",
            "Dame el numero ganador => 25\n",
            "Dame el numero ganador => 35\n",
            "Dame el numero ganador => 84\n",
            "Dame el numero ganador => 23\n",
            "Los numeros ganadores son ['23', '25', '35', '60', '84']\n"
          ]
        }
      ]
    },
    {
      "cell_type": "markdown",
      "source": [
        "Ejercicio 5\n",
        "Escribir un programa que almacene en una lista los números del 1 al 10 y los muestre por pantalla en orden inverso separados por comas."
      ],
      "metadata": {
        "id": "Ix5ZJiVjTFmu"
      }
    },
    {
      "cell_type": "code",
      "source": [
        "lista = [1, 2, 3, 4, 5, 6, 7, 8, 9, 10]\n",
        "lista.sort(reverse= True)\n",
        "for i in lista:\n",
        "  print(i, end=',')\n"
      ],
      "metadata": {
        "colab": {
          "base_uri": "https://localhost:8080/"
        },
        "id": "elAs-XX4TFtR",
        "outputId": "45bd3824-cbe6-40a5-e06c-89cec683df7f"
      },
      "execution_count": null,
      "outputs": [
        {
          "output_type": "stream",
          "name": "stdout",
          "text": [
            "10,9,8,7,6,5,4,3,2,1,"
          ]
        }
      ]
    },
    {
      "cell_type": "markdown",
      "source": [
        "Ejercicio 6\n",
        "Escribir un programa que almacene las asignaturas de un curso (por ejemplo Matemáticas, Física, Química, Historia y Lengua) en una lista, pregunte al usuario la nota que ha sacado en cada asignatura y elimine de la lista las asignaturas aprobadas. Al final el programa debe mostrar por pantalla las asignaturas que el usuario tiene que repetir."
      ],
      "metadata": {
        "id": "i97YIKocUXRJ"
      }
    },
    {
      "cell_type": "code",
      "source": [
        "materias = [\"Matemáticas\",\"Química\",\"Física\",\"Historia\",\"Lengua\"]\n",
        "notas_pasadas=[]\n",
        "for i in materias:\n",
        "    notas=float(input(f'Dame tu Calificacion en {i} =>'))\n",
        "    if notas >= 5:\n",
        "        notas_pasadas.append(i)\n",
        "for i in notas_pasadas:\n",
        "    materias.remove(i)\n",
        "print(f'Debes repetir {materias}')"
      ],
      "metadata": {
        "colab": {
          "base_uri": "https://localhost:8080/"
        },
        "id": "PKGfpPCOUXXu",
        "outputId": "821c96eb-c063-47bc-f321-6c8460bc183b"
      },
      "execution_count": null,
      "outputs": [
        {
          "output_type": "stream",
          "name": "stdout",
          "text": [
            "Dame tu Calificacion en Matemáticas =>10\n",
            "Dame tu Calificacion en Química =>5\n",
            "Dame tu Calificacion en Física =>6\n",
            "Dame tu Calificacion en Historia =>4\n",
            "Dame tu Calificacion en Lengua =>3\n",
            "Debes repetir ['Historia', 'Lengua']\n"
          ]
        }
      ]
    },
    {
      "cell_type": "markdown",
      "source": [
        "Ejercicio 7\n",
        "Escribir un programa que almacene el abecedario en una lista, elimine de la lista las letras que ocupen posiciones múltiplos de 3, y muestre por pantalla la lista resultante."
      ],
      "metadata": {
        "id": "eQU9Nh7pXXKW"
      }
    },
    {
      "cell_type": "code",
      "source": [
        "alfabeto = ['a', 'b', 'c', 'd', 'e', 'f', 'g', 'h', 'i', 'j', 'k', 'l', 'm', 'n', 'ñ', 'o', 'p', 'q', 'r', 's', 't', 'u', 'v', 'w', 'x', 'y', 'z']\n",
        "for i in range(len(alfabeto), 1, -1):\n",
        "    if i % 3 == 0:\n",
        "        alfabeto.pop(i-1)\n",
        "print(alfabeto)"
      ],
      "metadata": {
        "id": "k_Nbvc_HXXPl",
        "colab": {
          "base_uri": "https://localhost:8080/"
        },
        "outputId": "becc74f4-3902-4049-b5ab-d194ed800b37"
      },
      "execution_count": null,
      "outputs": [
        {
          "output_type": "stream",
          "name": "stdout",
          "text": [
            "['a', 'b', 'd', 'e', 'g', 'h', 'j', 'k', 'm', 'n', 'o', 'p', 'r', 's', 'u', 'v', 'x', 'y']\n"
          ]
        }
      ]
    },
    {
      "cell_type": "markdown",
      "source": [
        "Ejercicio 8\n",
        "Escribir un programa que pida al usuario una palabra y muestre por pantalla si es un palíndromo."
      ],
      "metadata": {
        "id": "jEW3I-cNxrST"
      }
    },
    {
      "cell_type": "code",
      "source": [
        "palabra = input('Introduce una palabra => ')\n",
        "palabra_inv = palabra\n",
        "palabra = list(palabra)\n",
        "palabra_inv = list(palabra_inv)\n",
        "\n",
        "palabra_inv.reverse()\n",
        "\n",
        "if palabra == palabra_inv:\n",
        "    print('Es un Palindromo')\n",
        "else:\n",
        "    print('No es un Palindromo')"
      ],
      "metadata": {
        "colab": {
          "base_uri": "https://localhost:8080/"
        },
        "id": "ODOMJjFbxrMu",
        "outputId": "c6075be6-8105-4ad7-eb3f-b56127efba86"
      },
      "execution_count": null,
      "outputs": [
        {
          "output_type": "stream",
          "name": "stdout",
          "text": [
            "Introduce una palabra => olo\n",
            "Es un Palindromo\n"
          ]
        }
      ]
    },
    {
      "cell_type": "markdown",
      "source": [
        "Ejercicio 9\n",
        "Escribir un programa que pida al usuario una palabra y muestre por pantalla el número de veces que contiene cada vocal."
      ],
      "metadata": {
        "id": "LbHEt4Uf05SE"
      }
    },
    {
      "cell_type": "code",
      "source": [
        "palabra = input('Introduce una oracion => ').lower()\n",
        "vocales = ['a', 'e', 'i', 'o', 'u']\n",
        "\n",
        "for vocal in vocales:\n",
        "    time = 0\n",
        "    for letra in palabra:\n",
        "        if letra == vocal:\n",
        "            time += 1\n",
        "    print(f'La vocal \"{vocal}\" está en la oración {time} veces')"
      ],
      "metadata": {
        "colab": {
          "base_uri": "https://localhost:8080/"
        },
        "id": "ZWi0Fjp_05be",
        "outputId": "8ef9b6b4-468e-45cc-9ac0-c35ec5642fb9"
      },
      "execution_count": null,
      "outputs": [
        {
          "output_type": "stream",
          "name": "stdout",
          "text": [
            "Introduce una oracion => AMAriLLo POllitooo\n",
            "La vocal \"a\" está en la oración 2 veces\n",
            "La vocal \"e\" está en la oración 0 veces\n",
            "La vocal \"i\" está en la oración 2 veces\n",
            "La vocal \"o\" está en la oración 5 veces\n",
            "La vocal \"u\" está en la oración 0 veces\n"
          ]
        }
      ]
    },
    {
      "cell_type": "markdown",
      "source": [
        "Ejercicio 10\n",
        "Escribir un programa que almacene en una lista los siguientes precios, 50, 75, 46, 22, 80, 65, 8, y muestre por pantalla el menor y el mayor de los precios."
      ],
      "metadata": {
        "id": "pit8DZUu9Eg8"
      }
    },
    {
      "cell_type": "code",
      "source": [
        "lista_precio =[50, 75, 46, 22, 80, 65, 8]\n",
        "max = min = lista_precio[0]\n",
        "\n",
        "for precio in lista_precio:\n",
        "    if precio < min:\n",
        "        min = precio\n",
        "    elif precio > max:\n",
        "        max = precio\n",
        "print(f'El precio menor es => {min}')\n",
        "print(f'El precio mayor es => {max}')"
      ],
      "metadata": {
        "colab": {
          "base_uri": "https://localhost:8080/"
        },
        "id": "vdUvCfA99EnQ",
        "outputId": "a16980ba-240f-466a-fa17-1576e1a10d75"
      },
      "execution_count": null,
      "outputs": [
        {
          "output_type": "stream",
          "name": "stdout",
          "text": [
            "El precio menor es => 8\n",
            "El precio mayor es => 80\n"
          ]
        }
      ]
    },
    {
      "cell_type": "markdown",
      "source": [
        "Ejercicio 11\n",
        "Escribir un programa que almacene los vectores (1,2,3) y (-1,0,2) en dos listas y muestre por pantalla su producto escalar."
      ],
      "metadata": {
        "id": "9ehSNquWA569"
      }
    },
    {
      "cell_type": "code",
      "source": [
        "lista1 = (1,2,3)\n",
        "lista2 = (-1,0,2)\n",
        "\n",
        "producto = 0\n",
        "\n",
        "for i in range(len(lista1)):\n",
        "    producto += lista1[i]*lista2[i]\n",
        "print(f\"El producto de los vectores  {lista1} y {lista2} es {producto}\")"
      ],
      "metadata": {
        "id": "46qyCEoYA6V0"
      },
      "execution_count": null,
      "outputs": []
    },
    {
      "cell_type": "markdown",
      "source": [
        "Ejercicio 12\n",
        "Escribir un programa que almacene las matrices\n",
        "\n",
        "![image.png](data:image/png;base64,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)\n",
        "\n",
        "\n",
        "en una lista y muestre por pantalla su producto.\n",
        "Nota: Para representar matrices mediante listas usar listas anidadas, representando cada vector fila en una lista."
      ],
      "metadata": {
        "id": "FfoaUjBFPbbd"
      }
    },
    {
      "cell_type": "code",
      "source": [
        "a = ((1, 2, 3),\n",
        "     (4, 5, 6))\n",
        "b = ((-1, 0),\n",
        "     (0, 1),\n",
        "     (1,1))\n",
        "result = [[0,0],\n",
        "          [0,0]]\n",
        "for i in range(len(a)):\n",
        "    for j in range(len(b[0])):\n",
        "        for k in range(len(b)):\n",
        "            result[i][j] += a[i][k] * b[k][j]\n",
        "for i in range(len(result)):\n",
        "    result[i] = tuple(result[i])\n",
        "result = tuple(result)\n",
        "for i in range(len(result)):\n",
        "    print(result[i])"
      ],
      "metadata": {
        "colab": {
          "base_uri": "https://localhost:8080/"
        },
        "id": "iGioWkJnPbhh",
        "outputId": "79cbd4f2-62f9-4887-cec4-a759cc611843"
      },
      "execution_count": 1,
      "outputs": [
        {
          "output_type": "stream",
          "name": "stdout",
          "text": [
            "(2, 5)\n",
            "(2, 11)\n"
          ]
        }
      ]
    },
    {
      "cell_type": "markdown",
      "source": [
        "Ejercicio 13\n",
        "Escribir un programa que pregunte por una muestra de números, separados por comas, los guarde en una lista y muestre por pantalla su media y desviación típica.\n",
        "\n",
        "\n"
      ],
      "metadata": {
        "id": "lpjjTtnPQtKp"
      }
    },
    {
      "cell_type": "code",
      "source": [
        "numero = input('Introduce una cantidad de numeros separado por \",\" => ')\n",
        "numero= numero.split(',')\n",
        "n = len(numero)\n",
        "\n",
        "for i in range(n):\n",
        "    numero[i]= int(numero[i])\n",
        "numero= tuple(numero)\n",
        "sum = 0\n",
        "sumq = 0\n",
        "for i in numero:\n",
        "    sum += i\n",
        "    sumq += i**2\n",
        "media =sum/n\n",
        "desv_t = (sumq/n**2)**(1/2)\n",
        "print(f'La media es {media} y la desviacion tipica es {round(desv_t,2)}')"
      ],
      "metadata": {
        "colab": {
          "base_uri": "https://localhost:8080/"
        },
        "id": "b9pHIYYNQtdX",
        "outputId": "d7441aed-9cba-4cd6-d490-9721997c6558"
      },
      "execution_count": 2,
      "outputs": [
        {
          "output_type": "stream",
          "name": "stdout",
          "text": [
            "Introduce una cantidad de numeros separado por \",\" => 5,8,9,14,36,21\n",
            "La media es 15.5 y la desviacion tipica es 7.64\n"
          ]
        }
      ]
    }
  ]
}