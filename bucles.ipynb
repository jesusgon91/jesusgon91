{
  "nbformat": 4,
  "nbformat_minor": 0,
  "metadata": {
    "colab": {
      "provenance": [],
      "authorship_tag": "ABX9TyOpLp6E+1AnxWRo0KDmDbhD",
      "include_colab_link": true
    },
    "kernelspec": {
      "name": "python3",
      "display_name": "Python 3"
    },
    "language_info": {
      "name": "python"
    }
  },
  "cells": [
    {
      "cell_type": "markdown",
      "metadata": {
        "id": "view-in-github",
        "colab_type": "text"
      },
      "source": [
        "<a href=\"https://colab.research.google.com/github/jesusgon91/jesusgon91/blob/main/bucles.ipynb\" target=\"_parent\"><img src=\"https://colab.research.google.com/assets/colab-badge.svg\" alt=\"Open In Colab\"/></a>"
      ]
    },
    {
      "cell_type": "markdown",
      "source": [
        "Ejercicio 1\n",
        "Escribir un programa que pida al usuario una palabra y la muestre por pantalla 10 veces."
      ],
      "metadata": {
        "id": "uVLpDh1e9mKT"
      }
    },
    {
      "cell_type": "code",
      "execution_count": null,
      "metadata": {
        "id": "Nivg7-G09lzD",
        "colab": {
          "base_uri": "https://localhost:8080/"
        },
        "outputId": "c930e528-c2ec-41d4-b40e-d86e693b080d"
      },
      "outputs": [
        {
          "output_type": "stream",
          "name": "stdout",
          "text": [
            "Ingresa una palabra => j\n",
            "j\n",
            "j\n",
            "j\n",
            "j\n",
            "j\n",
            "j\n",
            "j\n",
            "j\n",
            "j\n",
            "j\n"
          ]
        }
      ],
      "source": [
        "palabra =input('Ingresa una palabra => ')\n",
        "\n",
        "for i in range(10):\n",
        "    print(palabra)"
      ]
    },
    {
      "cell_type": "markdown",
      "source": [
        "Ejercicio 2\n",
        "Escribir un programa que pregunte al usuario su edad y muestre por pantalla todos los años que ha cumplido (desde 1 hasta su edad)."
      ],
      "metadata": {
        "id": "kbfID5d6-V2K"
      }
    },
    {
      "cell_type": "code",
      "source": [
        "edad = int(input('dime tu edad => '))\n",
        "\n",
        "for i in range(edad):\n",
        "    print(f'Has complido {i+1} Años')"
      ],
      "metadata": {
        "colab": {
          "base_uri": "https://localhost:8080/"
        },
        "id": "vGmfwWJQ-WA7",
        "outputId": "85f08814-b779-4d0a-cf86-78835d7d1693"
      },
      "execution_count": null,
      "outputs": [
        {
          "output_type": "stream",
          "name": "stdout",
          "text": [
            "dime tu edad => 5\n",
            "Has complido 1 Años\n",
            "Has complido 2 Años\n",
            "Has complido 3 Años\n",
            "Has complido 4 Años\n",
            "Has complido 5 Años\n"
          ]
        }
      ]
    },
    {
      "cell_type": "markdown",
      "source": [
        "Ejercicio 3\n",
        "Escribir un programa que pida al usuario un número entero positivo y muestre por pantalla todos los números impares desde 1 hasta ese número separados por comas."
      ],
      "metadata": {
        "id": "mRLJwohV-7zl"
      }
    },
    {
      "cell_type": "code",
      "source": [
        "numero =int(input('Ingresa un numero entero => '))\n",
        "\n",
        "for i in range(1,numero,2):\n",
        "    print(i,end=',')"
      ],
      "metadata": {
        "colab": {
          "base_uri": "https://localhost:8080/"
        },
        "id": "2LlcHJCs-7_U",
        "outputId": "a9f88e8b-1ada-4dd5-e7cd-425cb5e5605d"
      },
      "execution_count": null,
      "outputs": [
        {
          "output_type": "stream",
          "name": "stdout",
          "text": [
            "Ingresa un numero entero => 10\n",
            "1,3,5,7,9,"
          ]
        }
      ]
    },
    {
      "cell_type": "markdown",
      "source": [
        "Ejercicio 5\n",
        "Escribir un programa que pregunte al usuario una cantidad a invertir, el interés anual y el número de años, y muestre por pantalla el capital obtenido en la inversión cada año que dura la inversión.\n",
        "\n",
        "\n"
      ],
      "metadata": {
        "id": "XiJy2RKnARdd"
      }
    },
    {
      "cell_type": "code",
      "source": [
        "invest = float(input('Dime la cantidad que deseas invertir => '))\n",
        "interest = float(input('Dime el interes estimado anual => '))\n",
        "years = int(input('Dime el numero de años que deseas invertir => '))\n",
        "\n",
        "for i in range(years):\n",
        "    invest *= 1+ interest/100\n",
        "    print(f'El resutado de tu inversion el año {i+1} es de {round(invest,2)}  ')"
      ],
      "metadata": {
        "id": "Pc-1WmzqARVE",
        "colab": {
          "base_uri": "https://localhost:8080/"
        },
        "outputId": "5e5e576e-8fbf-40b8-c3f5-e57a5c7e9baa"
      },
      "execution_count": null,
      "outputs": [
        {
          "output_type": "stream",
          "name": "stdout",
          "text": [
            "Dime la cantidad que deseas invertir => 1100\n",
            "Dime el interes estimado anual => 10\n",
            "Dime el numero de años que deseas invertir => 5\n",
            "El resutado de tu inversion el año 1 es de 1210.0  \n",
            "El resutado de tu inversion el año 2 es de 1331.0  \n",
            "El resutado de tu inversion el año 3 es de 1464.1  \n",
            "El resutado de tu inversion el año 4 es de 1610.51  \n",
            "El resutado de tu inversion el año 5 es de 1771.56  \n"
          ]
        }
      ]
    },
    {
      "cell_type": "markdown",
      "source": [
        "Ejercicio 6\n",
        "Escribir un programa que pida al usuario un número entero y muestre por pantalla un triángulo rectángulo como el de más abajo, de altura el número introducido.\n",
        "\n",
        "\n",
        "![image.png](data:image/png;base64,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)"
      ],
      "metadata": {
        "id": "22Gqz7t8gZY4"
      }
    },
    {
      "cell_type": "code",
      "source": [
        "number = int(input(\"Introduce un numero entero => \"))\n",
        "\n",
        "for i in range(number+1):\n",
        "    print(f'{\"*\"*i}')"
      ],
      "metadata": {
        "colab": {
          "base_uri": "https://localhost:8080/"
        },
        "id": "rr1mR_EsgZu6",
        "outputId": "ccaa1e48-dd42-4f43-b85a-9f8f3f2c7af2"
      },
      "execution_count": null,
      "outputs": [
        {
          "output_type": "stream",
          "name": "stdout",
          "text": [
            "Introduce un numero entero => 5\n",
            "\n",
            "*\n",
            "**\n",
            "***\n",
            "****\n",
            "*****\n"
          ]
        }
      ]
    },
    {
      "cell_type": "markdown",
      "source": [
        "Ejercicio 7\n",
        "Escribir un programa que muestre por pantalla la tabla de multiplicar del 1 al 10."
      ],
      "metadata": {
        "id": "qknr847miW5w"
      }
    },
    {
      "cell_type": "code",
      "source": [
        "number = int(input('Ingresa el numero que deseas multiplicar => '))\n",
        "\n",
        "for i in range(1,11):\n",
        "    print(f'{number} x {i} = {number*i}')"
      ],
      "metadata": {
        "colab": {
          "base_uri": "https://localhost:8080/"
        },
        "id": "i3c84RZxiXAx",
        "outputId": "92d18bfa-0bcd-454c-a322-4ad8a697c581"
      },
      "execution_count": null,
      "outputs": [
        {
          "output_type": "stream",
          "name": "stdout",
          "text": [
            "Ingresa el numero que deseas multiplicar => 8\n",
            "8 x 1 = 8\n",
            "8 x 2 = 16\n",
            "8 x 3 = 24\n",
            "8 x 4 = 32\n",
            "8 x 5 = 40\n",
            "8 x 6 = 48\n",
            "8 x 7 = 56\n",
            "8 x 8 = 64\n",
            "8 x 9 = 72\n",
            "8 x 10 = 80\n"
          ]
        }
      ]
    },
    {
      "cell_type": "markdown",
      "source": [
        "Ejercicio 8\n",
        "Escribir un programa que pida al usuario un número entero y muestre por pantalla un triángulo rectángulo como el de más abajo.\n",
        "\n",
        "![image.png](data:image/png;base64,iVBORw0KGgoAAAANSUhEUgAAAMsAAADACAYAAACqPJfwAAALiklEQVR4Ae2dwWvbaBrG53/6Tj4EQqEwB5/qyxaGmj1sKYwhBzOw2cOEgeKBxfRgCiWFUAYaAoNy2AwsOSxkIHgOwaHggeKFgA8FQzD0IAg4uTyDbJPaTpy+llT1k/IrBJJGtqTnfX7vI8nh/b4R/1AABUwKfGPaio1QAAUELJgABYwKAItRKDZDAWDBAyhgVABYjEKxGQoACx5AAaMCwGIUis1QAFjwAAoYFQAWo1BshgLAggdQwKgAsBiFYjMUABY8gAJGBYDFKBSboUCmsFxdXeny8lKj0YgvNMidBzKDBUhoEHlvkpnAEiVK3oXi+IE9E1hIFYxWhGaTCSxFEIpzAHhg4UabS2SjB4DFKBTJQrIAC7CQLEYPAItRKJKFZAEWYCFZjB4AFqNQJAvJAizAQrIYPQAsRqFIFpIFWICFZDF6AFiMQpEsJAuwAAvJYvQAsBiFIllIFmABFpLF6AG/YTnv6WivoeCUrkayfX0P+AfLRaj+SaDmxkOVnJNzTs2Try8UZqUG3sHSeREBsq7qv1oKXtWBxXiJAMxfHmbvYBm866gfTk/8pAkswOLNPZV3sMx1SGDxxihzdbmnAAPLPS085l/9sg1YgIX0MnoAWIxC0YlX78RF0wxYgIVkMXoAWIxCFa1Lcj6rJyWwAAvJYvQAsBiFohOv3omLphmwAAvJYvSA37AYT6JoHYzz8TPFgAUgSRajB4DFKBTd3s9un2VdgAVYSBajB4DFKFSWHYx9+ZliwAIsJIvRA8BiFIpu72e3z7IuwAIsJIvRA8BiFCrLDsa+/EwxYAEWksXoAWAxCkW397PbZ1kXYAEWksXoAWAxCpVlB2NffqYYsAALyWL0ALAYhaLb+9nts6wLsAALyWL0ALAYhcqyg7EvP1MMWICFZDF6wD9YLgZq72yq+m1pPOd4/VFdzd+6Gl6k2G1YygJAjIDMprxfsFz0FWyU5Naqau4fqX3c1sFOXRXnVHnZURjjBK9PlqUsACSJf0YjeQVLeNxQyZXVPAnnCtv75bGc29ThMH66sJRFfO2uG05Cs+X9fbyCZXiyq9bLQ/UWL7nG0/Sr2j2LX3CWsoivXd5NntbxewXLspNKI1nm3pulLOaSe06be54ed2nhLSzh+VDD8746e1uquJJq+/30Cgws6Wl5j+DyFJaOmtP1JKM1JSsv2uk+DQMWYIkBuaewjDRJlqH6J29Uf+BU2gjUX7yXiXHC45gFFmCJ4R1vYZm9dpw8JSupldYS38ACLHmHZfi+rfZxT8PFE/kQqOacav8ZpFNkYElHx8U6Ffxnr5Kl9zb6PKWug/P5x5wky7wes6nL99lp4xUsow8Hqq05lf7eUvssehoW3bPsausR9yxAkR0Uy7T2C5bRSOH7QI0n6+O/C4uehDm3rurzQL2PKYrFZRiXYTEuGb2D5ZrqcJIsYVpPwGKIc30svBa4fPvbMMyZYnoCeOqA+5ssFDv1YtOMkjUjYAFKoDR6AFiMQtGVk3XlIugHLMBCshg9ACxGoYrQGTmHZOkILMBCshg9ACxGoejKybpyEfQDFmAhWYweABajUEXojJxDsnQEFmAhWYweABajUHTlZF25CPoBC7CQLEYPAItRqCJ0Rs4hWToCC7CQLEYPAItRKLpysq5cBP08hGWgw58e6/F3t3z9dKhBXHMznZ8Eieud6es8hKWv4B9O7kHlJjBxYWE6P6AkBCVKRg9hmUyjfPpreuNamc7PJVQal4H+wRIeqZHmjLDRSEznB5ZiwjIdqNf8I9TwrKv2cUe9wfx6LWmcePQeTOcHolW85F+ynLZUck6ltckyeZNxSE7rPxykMuuY6fwAsgogs9v6B8tZoPrfqtra72owDBUO++q8ro0BqrzuJrxRZTr/bPH5frXG4R8stz61CHX0o5Nba6qTcI4Y0/lXMwhAfdIrJ7CMNNivybmagg+fDj5pIZmhnJ6WSWuRh9d7Bkuo/mlb7ffDG5dbSWBhOj9QpAGjZ7CM1HlRkitvqzt3uRXq6Hm05HdLnVsv0+42A9P579YnDSPdh/fwDpbR/3dVjZbG+zFQ98N0XcmdutadU/Vt70bimIrEdP54usVoTKZ65PR9/YMl+hDx9I1q3848Ol57qNpOV2ECkZnOT7okBdlLWK5P6uMXmKTPdH5SJmbT9RuWmCd1DRuvB4wUPQAsKYoJpMW+1AMWYCF9jB4AFqNQpEaxU8NSX2ABFpLF6AFgMQpl6TxsU+z0ARZgIVmMHgAWo1CkRrFTw1JfYAEWksXoAWAxCmXpPGxT7PQBFmAhWYweABajUKRGsVPDUl9gARaSxegBYDEKZek8bFPs9AEWYCFZjB4AFqNQpEaxU8NSX69gGfx36+Yw8Llp+ls6HMQtGtP5LYZgm+X+8gqWyUzillovb35tPnG3DLJYfmI3i850/puarKIf23oFy9Jihh01y07VvSST9ZnOv1RfLkVN9225gGX4W11uraGjjwm6G9P5TYYAqOUe8x+Wi662HzmVXyWcc8x0fmBJmKDewzIZsVrV7tly4k3dkOn8wFJsWPrafeJU+rmdaGbYGCam8wNLoWF5t62yK2v7XcJUWSoS0/lNqbxUvy9VFz/f1+PLsKEOfnBy3wfxVyg2FDnJwPFlRmM6v59mX1Yv6//7C8t45nFJjeM0lshjOr/VEGy3HHRPYQnV/vm2afrLT+RzRWY6f3ztPqftffm9n7CcTSbp1/YH6d2UMp0/PS0Nl7dFBMhLWLqvyuMPIdthut2Q6fzp6llEIO46Jy9hueuAU/kd0/lJmRjpeD9hiSFUKpCy31xDCiwYONcGzrKJAQuwAIvRA8BiFCrLDsa+/HwQASzAQrIYPQAsRqHo9n52+yzrAizAQrIYPQAsRqGy7GDsy88UAxZgIVmMHgAWo1B0ez+7fZZ1ARZgIVmMHgAWo1BZdjD25WeKAQuwkCxGDwCLUSi6vZ/dPsu6AAuwkCxGDwCLUagsOxj78jPFgAVYSBajB7yEZfhnoMazitadk3tQUf1VW4OL+N2GpSyWaHfe09FeQ8Hpkt8bTXRfktA7WMLTlirOaf3Ztg6O2zra29LjNafSxkHs+WEsZTEDw0Wo/kmg5sZDlaJm5JyaJzO/B5ClSesZLJNxrdFgvf5MkoS/N1Ryac0QmzEGS1kAywrNwS9YhofadE5Pf11ch6Wr7bJT6WVnKfVxLgVYyqIJLLmFZbosROP3xSmUAwXfpzzKlaUsNDoBllWarJfJ8vhtbyFBpgO8U5x7zFIWI2BZIVUiqPyCZTQdBl5uqj2zytfwj+b4pj+9IeEsZTHuqCTLQlOeuZ+9BSTPYBlp1A9UW4seGVe1+e+WGtFTm7WKKmUn989DDW85iVWidLwtS1lMTAIsOYclgmHQUbDTUP3Zppo7B+oOe9r9zqn8OuFSeWPQWMriurkASwFgWUyP6fITqXwewFIWnwwCLJ+0WPTcLT/7dxm2eJAfe9rdKMk92VVv5rOX6+64uP2dP7OUxZxuwFIAWM57av8v0JvnNT0c37/UddC/++ZrzgTLgGEpi3lzAMu8Hst8M/1/P5NlWsT1R0+1uZPs78JmIWIpi4WGAywFgOUzhM8C4NX3LGWxkvm8qp3Bc34mi+HA8yY0x7uQajmsMbDksGiA93XAAxZgKfSlU5qNBViABViMHgAWo1Bpdije6+tcRiXVHViAhWQxegBYjEIl7Uq8Pp9pMls3YAEWksXoAWAxCjXbYfg+/ykRp4bAAiwki9EDwGIUKk4n4jXFSiBgARaSxeiBTGC5vLykIMaCkEb+plEmsFxdXQELsOTeA5nAIkmki78dkzSz1SYzWCJgooQBGlthMLB/OmUKSwQM/1AgrwoAS14rx3FnrgCwZC45O8yrAsCS18px3JkrACyZS84O86oAsOS1chx35goAS+aSs8O8KgAsea0cx525An8BwT24+r1r+xkAAAAASUVORK5CYII=)"
      ],
      "metadata": {
        "id": "jToW31WAj4d4"
      }
    },
    {
      "cell_type": "code",
      "source": [
        "number = int(input(\"Introduce un numero entero => \"))\n",
        "\n",
        "for i in range(1,number+1,2):\n",
        "    for j in range(i,0,-2):\n",
        "        print(j, end=\" \")\n",
        "    print(\" \")\n"
      ],
      "metadata": {
        "id": "kGD4t1y9j4JD",
        "colab": {
          "base_uri": "https://localhost:8080/"
        },
        "outputId": "3b8da5eb-2bb0-4e36-8299-9c1c3b481e1d"
      },
      "execution_count": null,
      "outputs": [
        {
          "output_type": "stream",
          "name": "stdout",
          "text": [
            "Introduce un numero entero => 9\n",
            "1  \n",
            "3 1  \n",
            "5 3 1  \n",
            "7 5 3 1  \n",
            "9 7 5 3 1  \n"
          ]
        }
      ]
    },
    {
      "cell_type": "markdown",
      "source": [
        "Ejercicio 9\n",
        "Escribir un programa que almacene la cadena de caracteres contraseña en una variable, pregunte al usuario por la contraseña hasta que introduzca la contraseña correcta."
      ],
      "metadata": {
        "id": "16rV4i9J_mfK"
      }
    },
    {
      "cell_type": "code",
      "source": [
        "clave= 'clave'\n",
        "password = \"\"\n",
        "\n",
        "while password != clave :\n",
        "    password=input('Ingresa la contraseña correcta =>')\n",
        "print(\"Contraseña Correcta\")"
      ],
      "metadata": {
        "colab": {
          "base_uri": "https://localhost:8080/"
        },
        "id": "TaEQR1UV_mnz",
        "outputId": "38696ad6-7b4d-4dc7-c4e5-4c6993ac6c59"
      },
      "execution_count": null,
      "outputs": [
        {
          "output_type": "stream",
          "name": "stdout",
          "text": [
            "Ingresa la contraseña correcta =>travel\n",
            "Ingresa la contraseña correcta =>Clave\n",
            "Ingresa la contraseña correcta =>cLave\n",
            "Ingresa la contraseña correcta =>clave\n",
            "Contraseña Correcta\n"
          ]
        }
      ]
    },
    {
      "cell_type": "markdown",
      "source": [
        "Ejercicio 10\n",
        "Escribir un programa que pida al usuario un número entero y muestre por pantalla si es un número primo o no."
      ],
      "metadata": {
        "id": "eJenqzB7BMO5"
      }
    },
    {
      "cell_type": "code",
      "source": [
        "n = int(input(\"Introduce un número entero : \"))\n",
        "i = 2\n",
        "while n % i != 0:\n",
        "    i += 1\n",
        "if i == n:\n",
        "    print(f'{n} es primo')\n",
        "else:\n",
        "    print(f\"{n} no es primo\")"
      ],
      "metadata": {
        "colab": {
          "base_uri": "https://localhost:8080/"
        },
        "id": "EmweRGVCBMUO",
        "outputId": "44211366-8b0b-452a-bdf1-094de5c5657e"
      },
      "execution_count": null,
      "outputs": [
        {
          "output_type": "stream",
          "name": "stdout",
          "text": [
            "Introduce un número entero : 3\n",
            "3 es primo\n"
          ]
        }
      ]
    },
    {
      "cell_type": "markdown",
      "source": [
        "Ejercicio 11\n",
        "Escribir un programa que pida al usuario una palabra y luego muestre por pantalla una a una las letras de la palabra introducida empezando por la última."
      ],
      "metadata": {
        "id": "PmWONY0DDIQf"
      }
    },
    {
      "cell_type": "code",
      "source": [
        "word = input(\"Introduce una palabra: \")\n",
        "for i in range(len(word)-1, -1, -1):\n",
        "    print(word[i])"
      ],
      "metadata": {
        "id": "9Csw8W_2DJMS",
        "outputId": "852e821c-67df-4038-ee8a-4645697cbd79",
        "colab": {
          "base_uri": "https://localhost:8080/"
        }
      },
      "execution_count": null,
      "outputs": [
        {
          "output_type": "stream",
          "name": "stdout",
          "text": [
            "Introduce una palabra: hola\n",
            "a\n",
            "l\n",
            "o\n",
            "h\n"
          ]
        }
      ]
    },
    {
      "cell_type": "markdown",
      "source": [
        "Ejercicio 12\n",
        "Escribir un programa en el que se pregunte al usuario por una frase y una letra, y muestre por pantalla el número de veces que aparece la letra en la frase."
      ],
      "metadata": {
        "id": "Bw_8K_a9Mn2N"
      }
    },
    {
      "cell_type": "code",
      "source": [
        "frase = input('Ingresa una Frase => ')\n",
        "letra = input('Dame una letra => ')\n",
        "cont=0\n",
        "\n",
        "for i in frase:\n",
        "    if i == letra:\n",
        "        cont +=1\n",
        "print(f' La letra \"{letra}\" aparece {cont} veces en la  frase \"{frase}\"')"
      ],
      "metadata": {
        "colab": {
          "base_uri": "https://localhost:8080/"
        },
        "id": "s0sFe9e0MoGX",
        "outputId": "ed7a8ee3-59f7-4c53-c930-f40fa8ce0a38"
      },
      "execution_count": 2,
      "outputs": [
        {
          "output_type": "stream",
          "name": "stdout",
          "text": [
            "Ingresa una Frase => Hola mundo te extrano un mundo\n",
            "Dame una letra => e\n",
            " La letra \"e\" aparece 2 veces en la  frase \"Hola mundo te extrano un mundo\"\n"
          ]
        }
      ]
    },
    {
      "cell_type": "markdown",
      "source": [
        "Ejercicio 13\n",
        "Escribir un programa que muestre el eco de todo lo que el usuario introduzca hasta que el usuario escriba “salir” que terminará."
      ],
      "metadata": {
        "id": "ySLCf_YuN_-l"
      }
    },
    {
      "cell_type": "code",
      "source": [
        "while True:\n",
        "    frase = input(\"Introduce algo: \")\n",
        "    if frase == \"salir\":\n",
        "        break\n",
        "    print(frase)"
      ],
      "metadata": {
        "colab": {
          "base_uri": "https://localhost:8080/"
        },
        "id": "eInWPoBlOAEN",
        "outputId": "e7ace1ae-9352-45b9-9f84-85da0e7e7548"
      },
      "execution_count": 3,
      "outputs": [
        {
          "name": "stdout",
          "output_type": "stream",
          "text": [
            "Introduce algo: hola\n",
            "hola\n",
            "Introduce algo: como estas\n",
            "como estas\n",
            "Introduce algo: hace falta algo?\n",
            "hace falta algo?\n",
            "Introduce algo: salir\n"
          ]
        }
      ]
    }
  ]
}